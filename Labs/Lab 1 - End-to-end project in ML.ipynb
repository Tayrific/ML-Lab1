{
  "cells": [
    {
      "cell_type": "markdown",
      "metadata": {
        "id": "view-in-github",
        "colab_type": "text"
      },
      "source": [
        "<a href=\"https://colab.research.google.com/github/Tayrific/ML-Lab1/blob/main/Labs/Lab%201%20-%20End-to-end%20project%20in%20ML.ipynb\" target=\"_parent\"><img src=\"https://colab.research.google.com/assets/colab-badge.svg\" alt=\"Open In Colab\"/></a>"
      ]
    },
    {
      "cell_type": "markdown",
      "metadata": {
        "id": "-u1YxNwc6V2E"
      },
      "source": [
        "# Introduction to Jupyter, Python, Pandas and an end-to-end project in Machine Learning\n",
        "\n",
        "Welcome to the Topics in Machine Learning course. In this course we will introduce the basic concepts of machine learning. In particular we will look at tools and techniques that describe how to model a dataset with the purpose of prediction. An integrated part of that is how we approach data with the computer. We are choosing to do that with the tool you see in front of you: the Jupyter Notebook.\n",
        "\n",
        "Classical software engineering demands a large amount of design and testing. In data analysis, testing remains very important, but the design is often evolving. The design evolves through a process known as *exploratory data analysis*. You will learn some of the techniques of exploratory data analysis in this course.\n",
        "\n",
        "In this Notebook, we will work on an End-to-End project in Machine Learning where we will design a linear regression model to predict bike rentals. Before we go into the project, we will first introduce you to Jupyter, Python and Pandas."
      ]
    },
    {
      "cell_type": "markdown",
      "metadata": {
        "id": "CeRUi7in6V2G"
      },
      "source": [
        "### Choice of Language\n",
        "\n",
        "In this module, we will be using Python for our programming language. A prerequisite of attending this course is that you have learnt at least one programming language in the past. It is not our objective to teach you python. At Level 4 and Masters we expect our students to be able pick up a language as they go. If you have not experienced python before it may be worth your while spending some time understanding the language. There are resources available for you to do this [here](https://docs.python.org/3/tutorial/index.html) that are based on the standard console. An introduction to the Jupyter notebook (formerly known as the IPython notebook) is available [here](https://ipython.readthedocs.io/en/stable/)."
      ]
    },
    {
      "cell_type": "markdown",
      "metadata": {
        "id": "KDn54-8O6V2H"
      },
      "source": [
        "### Question 1\n",
        "\n",
        "Who invented python and why? What was the language designed to do? What is the origin of the name \"python\"? Is the language a compiled language? Is it an object orientated language?"
      ]
    },
    {
      "cell_type": "markdown",
      "metadata": {
        "id": "EQlApxJD6V2H"
      },
      "source": [
        "Guido van Rossum invented python with the aim to create a powerful language that is easy to read. - it has clear syntax and has a focus on easy to understand code. the origin of the name was from \"monty python's flying circus\". Python is a interpreted language as well as a object orientated language.\n"
      ]
    },
    {
      "cell_type": "markdown",
      "metadata": {
        "id": "ujcD6nPB6V2H"
      },
      "source": [
        "## Choice of Environment\n",
        "\n",
        "We are working in the Jupyter notebook. It provides an environment for interacting with data in a natural way which is reproducible. We will be learning how to make use of the notebook throughout the course. The notebook allows us to combine code with descriptions, interactive visualizations, plots etc. In fact it allows us to do many of the things we need for data science. Notebooks can also be easily shared through the internet for ease of communication of ideas. The box this text is written in is a *markdown* box. Below we have a *code* box."
      ]
    },
    {
      "cell_type": "code",
      "execution_count": null,
      "metadata": {
        "colab": {
          "base_uri": "https://localhost:8080/"
        },
        "id": "XjiesAVB6V2I",
        "outputId": "3656066b-a7b3-4e1c-e6b6-b09e2da0d77a"
      },
      "outputs": [
        {
          "output_type": "stream",
          "name": "stdout",
          "text": [
            "This is the Jupyter notebook\n",
            "It provides a platform for:\n",
            "Isaac Tay Sai\n",
            "Sai Tay Isaac\n",
            "Sai Tay Isaac\n",
            "    Name Age        City\n",
            "0    Tay  23  Manchester\n",
            "1  Isaac  19  Birmingham\n",
            "2    Sai  29      London\n"
          ]
        }
      ],
      "source": [
        "print(\"This is the Jupyter notebook\")\n",
        "print(\"It provides a platform for:\")\n",
        "names = ['Tay', 'Isaac', 'Sai']\n",
        "\n",
        "data = {\n",
        "    \"Name\": ['Tay', 'Isaac', 'Sai'],\n",
        "    \"Age\": ['23','19','29'],\n",
        "    \"City\":['Manchester', 'Birmingham','London']\n",
        "}\n",
        "from random import shuffle\n",
        "import pandas as pd\n",
        "for i in range(3):\n",
        "    shuffle(names)\n",
        "    print(' '.join(names))\n",
        "\n",
        "df = pd.DataFrame(data)\n",
        "print(df)\n"
      ]
    },
    {
      "cell_type": "markdown",
      "metadata": {
        "id": "Gg37KP5P6V2J"
      },
      "source": [
        "Have a play with the code in the above box. Think about the following questions: what is the difference between `CTRL-enter` and `SHIFT-enter` in running the code? What does the command `shuffle` do? Can you find out by typing `shuffle?` in a code box?\n",
        "Once you've had a play with the code we can load in some data using the `pandas` library for data analysis."
      ]
    },
    {
      "cell_type": "markdown",
      "metadata": {
        "id": "UQU1-d6L6V2J"
      },
      "source": [
        "## Movie Body Count Example\n",
        "\n",
        "There is a crisis in the movie industry, deaths are occuring on a massive scale. In every feature film the body count is tolling up. But what is the cause of all these deaths? Let's try and investigate.\n",
        "\n",
        "For our first example of data science, we take inspiration from work by [researchers at NJIT](https://www.theswarmlab.com/blog/rvspython/r/2014/02/02/r-vs-python-round-2-2/). The researchers were comparing the qualities of Python with R. They put together a data base of results from the \"Internet Movie Database\" and the [Movie Body Count](http://www.moviebodycounts.com/) website which will allow us to do some preliminary investigation."
      ]
    },
    {
      "cell_type": "markdown",
      "metadata": {
        "id": "FGPf7zQS6V2J"
      },
      "source": [
        "We will make use of data that has already been 'scraped' from the [Movie Body Count](http://www.moviebodycounts.com/) website. Code and the data is available at [a github repository](https://github.com/sjmgarnier/R-vs-Python/tree/master/Deadliest%20movies%20scrape/code). Git is a version control system and github is a website that hosts code that can be accessed through git. By sharing the code publicly through github, the authors are licensing the code publicly and allowing you to access and edit it. As well as accessing the code via github you can also [download the zip file](https://github.com/sjmgarnier/R-vs-Python/archive/master.zip). But let's do that in python"
      ]
    },
    {
      "cell_type": "code",
      "execution_count": 3,
      "metadata": {
        "colab": {
          "base_uri": "https://localhost:8080/"
        },
        "id": "FFvVfNg46V2K",
        "outputId": "fd419912-1fc2-4dc0-90bd-1bae050eddf5"
      },
      "outputs": [
        {
          "output_type": "execute_result",
          "data": {
            "text/plain": [
              "('./master.zip', <http.client.HTTPMessage at 0x7ed898d96540>)"
            ]
          },
          "metadata": {},
          "execution_count": 3
        }
      ],
      "source": [
        "import urllib.request\n",
        "urllib.request.urlretrieve('https://github.com/sjmgarnier/R-vs-Python/archive/master.zip', './master.zip')"
      ]
    },
    {
      "cell_type": "markdown",
      "metadata": {
        "id": "HkTRWAR46V2K"
      },
      "source": [
        "Once the data is downloaded we can unzip it into the same directory where we are running the lab class."
      ]
    },
    {
      "cell_type": "code",
      "execution_count": 4,
      "metadata": {
        "id": "nbitZfBu6V2K"
      },
      "outputs": [],
      "source": [
        "import zipfile\n",
        "zip = zipfile.ZipFile('./master.zip', 'r')\n",
        "for name in zip.namelist():\n",
        "    zip.extract(name, '.')"
      ]
    },
    {
      "cell_type": "code",
      "execution_count": 5,
      "metadata": {
        "id": "xHlka6t86V2K"
      },
      "outputs": [],
      "source": [
        "import pandas as pd # import the pandas library into a namespace called pd\n",
        "film_deaths = pd.read_csv('./R-vs-Python-master/Deadliest movies scrape/code/film-death-counts-Python.csv')"
      ]
    },
    {
      "cell_type": "markdown",
      "metadata": {
        "id": "pGk_HQ0M6V2K"
      },
      "source": [
        "Once it is loaded in the data can be summarized using the `describe` method in pandas."
      ]
    },
    {
      "cell_type": "code",
      "execution_count": 7,
      "metadata": {
        "colab": {
          "base_uri": "https://localhost:8080/",
          "height": 300
        },
        "id": "WtIv_MpR6V2K",
        "outputId": "24bce6f4-eb76-4892-c3fc-b2fe3f2f820d"
      },
      "outputs": [
        {
          "output_type": "execute_result",
          "data": {
            "text/plain": [
              "              Year  Body_Count  Length_Minutes  IMDB_Rating\n",
              "count   421.000000  421.000000      421.000000   421.000000\n",
              "mean   1996.491686   53.287411      115.427553     6.882898\n",
              "std      10.913210   82.068035       21.652287     1.110788\n",
              "min    1949.000000    0.000000       79.000000     2.000000\n",
              "25%    1991.000000   11.000000      100.000000     6.200000\n",
              "50%    2000.000000   28.000000      111.000000     6.900000\n",
              "75%    2005.000000   61.000000      127.000000     7.700000\n",
              "max    2009.000000  836.000000      201.000000     9.300000"
            ],
            "text/html": [
              "\n",
              "  <div id=\"df-89cd7c52-9549-448f-a13d-a72d70a6a106\" class=\"colab-df-container\">\n",
              "    <div>\n",
              "<style scoped>\n",
              "    .dataframe tbody tr th:only-of-type {\n",
              "        vertical-align: middle;\n",
              "    }\n",
              "\n",
              "    .dataframe tbody tr th {\n",
              "        vertical-align: top;\n",
              "    }\n",
              "\n",
              "    .dataframe thead th {\n",
              "        text-align: right;\n",
              "    }\n",
              "</style>\n",
              "<table border=\"1\" class=\"dataframe\">\n",
              "  <thead>\n",
              "    <tr style=\"text-align: right;\">\n",
              "      <th></th>\n",
              "      <th>Year</th>\n",
              "      <th>Body_Count</th>\n",
              "      <th>Length_Minutes</th>\n",
              "      <th>IMDB_Rating</th>\n",
              "    </tr>\n",
              "  </thead>\n",
              "  <tbody>\n",
              "    <tr>\n",
              "      <th>count</th>\n",
              "      <td>421.000000</td>\n",
              "      <td>421.000000</td>\n",
              "      <td>421.000000</td>\n",
              "      <td>421.000000</td>\n",
              "    </tr>\n",
              "    <tr>\n",
              "      <th>mean</th>\n",
              "      <td>1996.491686</td>\n",
              "      <td>53.287411</td>\n",
              "      <td>115.427553</td>\n",
              "      <td>6.882898</td>\n",
              "    </tr>\n",
              "    <tr>\n",
              "      <th>std</th>\n",
              "      <td>10.913210</td>\n",
              "      <td>82.068035</td>\n",
              "      <td>21.652287</td>\n",
              "      <td>1.110788</td>\n",
              "    </tr>\n",
              "    <tr>\n",
              "      <th>min</th>\n",
              "      <td>1949.000000</td>\n",
              "      <td>0.000000</td>\n",
              "      <td>79.000000</td>\n",
              "      <td>2.000000</td>\n",
              "    </tr>\n",
              "    <tr>\n",
              "      <th>25%</th>\n",
              "      <td>1991.000000</td>\n",
              "      <td>11.000000</td>\n",
              "      <td>100.000000</td>\n",
              "      <td>6.200000</td>\n",
              "    </tr>\n",
              "    <tr>\n",
              "      <th>50%</th>\n",
              "      <td>2000.000000</td>\n",
              "      <td>28.000000</td>\n",
              "      <td>111.000000</td>\n",
              "      <td>6.900000</td>\n",
              "    </tr>\n",
              "    <tr>\n",
              "      <th>75%</th>\n",
              "      <td>2005.000000</td>\n",
              "      <td>61.000000</td>\n",
              "      <td>127.000000</td>\n",
              "      <td>7.700000</td>\n",
              "    </tr>\n",
              "    <tr>\n",
              "      <th>max</th>\n",
              "      <td>2009.000000</td>\n",
              "      <td>836.000000</td>\n",
              "      <td>201.000000</td>\n",
              "      <td>9.300000</td>\n",
              "    </tr>\n",
              "  </tbody>\n",
              "</table>\n",
              "</div>\n",
              "    <div class=\"colab-df-buttons\">\n",
              "\n",
              "  <div class=\"colab-df-container\">\n",
              "    <button class=\"colab-df-convert\" onclick=\"convertToInteractive('df-89cd7c52-9549-448f-a13d-a72d70a6a106')\"\n",
              "            title=\"Convert this dataframe to an interactive table.\"\n",
              "            style=\"display:none;\">\n",
              "\n",
              "  <svg xmlns=\"http://www.w3.org/2000/svg\" height=\"24px\" viewBox=\"0 -960 960 960\">\n",
              "    <path d=\"M120-120v-720h720v720H120Zm60-500h600v-160H180v160Zm220 220h160v-160H400v160Zm0 220h160v-160H400v160ZM180-400h160v-160H180v160Zm440 0h160v-160H620v160ZM180-180h160v-160H180v160Zm440 0h160v-160H620v160Z\"/>\n",
              "  </svg>\n",
              "    </button>\n",
              "\n",
              "  <style>\n",
              "    .colab-df-container {\n",
              "      display:flex;\n",
              "      gap: 12px;\n",
              "    }\n",
              "\n",
              "    .colab-df-convert {\n",
              "      background-color: #E8F0FE;\n",
              "      border: none;\n",
              "      border-radius: 50%;\n",
              "      cursor: pointer;\n",
              "      display: none;\n",
              "      fill: #1967D2;\n",
              "      height: 32px;\n",
              "      padding: 0 0 0 0;\n",
              "      width: 32px;\n",
              "    }\n",
              "\n",
              "    .colab-df-convert:hover {\n",
              "      background-color: #E2EBFA;\n",
              "      box-shadow: 0px 1px 2px rgba(60, 64, 67, 0.3), 0px 1px 3px 1px rgba(60, 64, 67, 0.15);\n",
              "      fill: #174EA6;\n",
              "    }\n",
              "\n",
              "    .colab-df-buttons div {\n",
              "      margin-bottom: 4px;\n",
              "    }\n",
              "\n",
              "    [theme=dark] .colab-df-convert {\n",
              "      background-color: #3B4455;\n",
              "      fill: #D2E3FC;\n",
              "    }\n",
              "\n",
              "    [theme=dark] .colab-df-convert:hover {\n",
              "      background-color: #434B5C;\n",
              "      box-shadow: 0px 1px 3px 1px rgba(0, 0, 0, 0.15);\n",
              "      filter: drop-shadow(0px 1px 2px rgba(0, 0, 0, 0.3));\n",
              "      fill: #FFFFFF;\n",
              "    }\n",
              "  </style>\n",
              "\n",
              "    <script>\n",
              "      const buttonEl =\n",
              "        document.querySelector('#df-89cd7c52-9549-448f-a13d-a72d70a6a106 button.colab-df-convert');\n",
              "      buttonEl.style.display =\n",
              "        google.colab.kernel.accessAllowed ? 'block' : 'none';\n",
              "\n",
              "      async function convertToInteractive(key) {\n",
              "        const element = document.querySelector('#df-89cd7c52-9549-448f-a13d-a72d70a6a106');\n",
              "        const dataTable =\n",
              "          await google.colab.kernel.invokeFunction('convertToInteractive',\n",
              "                                                    [key], {});\n",
              "        if (!dataTable) return;\n",
              "\n",
              "        const docLinkHtml = 'Like what you see? Visit the ' +\n",
              "          '<a target=\"_blank\" href=https://colab.research.google.com/notebooks/data_table.ipynb>data table notebook</a>'\n",
              "          + ' to learn more about interactive tables.';\n",
              "        element.innerHTML = '';\n",
              "        dataTable['output_type'] = 'display_data';\n",
              "        await google.colab.output.renderOutput(dataTable, element);\n",
              "        const docLink = document.createElement('div');\n",
              "        docLink.innerHTML = docLinkHtml;\n",
              "        element.appendChild(docLink);\n",
              "      }\n",
              "    </script>\n",
              "  </div>\n",
              "\n",
              "\n",
              "    <div id=\"df-28d5a58c-ced9-4d9c-90f2-92f2b379342a\">\n",
              "      <button class=\"colab-df-quickchart\" onclick=\"quickchart('df-28d5a58c-ced9-4d9c-90f2-92f2b379342a')\"\n",
              "                title=\"Suggest charts\"\n",
              "                style=\"display:none;\">\n",
              "\n",
              "<svg xmlns=\"http://www.w3.org/2000/svg\" height=\"24px\"viewBox=\"0 0 24 24\"\n",
              "     width=\"24px\">\n",
              "    <g>\n",
              "        <path d=\"M19 3H5c-1.1 0-2 .9-2 2v14c0 1.1.9 2 2 2h14c1.1 0 2-.9 2-2V5c0-1.1-.9-2-2-2zM9 17H7v-7h2v7zm4 0h-2V7h2v10zm4 0h-2v-4h2v4z\"/>\n",
              "    </g>\n",
              "</svg>\n",
              "      </button>\n",
              "\n",
              "<style>\n",
              "  .colab-df-quickchart {\n",
              "      --bg-color: #E8F0FE;\n",
              "      --fill-color: #1967D2;\n",
              "      --hover-bg-color: #E2EBFA;\n",
              "      --hover-fill-color: #174EA6;\n",
              "      --disabled-fill-color: #AAA;\n",
              "      --disabled-bg-color: #DDD;\n",
              "  }\n",
              "\n",
              "  [theme=dark] .colab-df-quickchart {\n",
              "      --bg-color: #3B4455;\n",
              "      --fill-color: #D2E3FC;\n",
              "      --hover-bg-color: #434B5C;\n",
              "      --hover-fill-color: #FFFFFF;\n",
              "      --disabled-bg-color: #3B4455;\n",
              "      --disabled-fill-color: #666;\n",
              "  }\n",
              "\n",
              "  .colab-df-quickchart {\n",
              "    background-color: var(--bg-color);\n",
              "    border: none;\n",
              "    border-radius: 50%;\n",
              "    cursor: pointer;\n",
              "    display: none;\n",
              "    fill: var(--fill-color);\n",
              "    height: 32px;\n",
              "    padding: 0;\n",
              "    width: 32px;\n",
              "  }\n",
              "\n",
              "  .colab-df-quickchart:hover {\n",
              "    background-color: var(--hover-bg-color);\n",
              "    box-shadow: 0 1px 2px rgba(60, 64, 67, 0.3), 0 1px 3px 1px rgba(60, 64, 67, 0.15);\n",
              "    fill: var(--button-hover-fill-color);\n",
              "  }\n",
              "\n",
              "  .colab-df-quickchart-complete:disabled,\n",
              "  .colab-df-quickchart-complete:disabled:hover {\n",
              "    background-color: var(--disabled-bg-color);\n",
              "    fill: var(--disabled-fill-color);\n",
              "    box-shadow: none;\n",
              "  }\n",
              "\n",
              "  .colab-df-spinner {\n",
              "    border: 2px solid var(--fill-color);\n",
              "    border-color: transparent;\n",
              "    border-bottom-color: var(--fill-color);\n",
              "    animation:\n",
              "      spin 1s steps(1) infinite;\n",
              "  }\n",
              "\n",
              "  @keyframes spin {\n",
              "    0% {\n",
              "      border-color: transparent;\n",
              "      border-bottom-color: var(--fill-color);\n",
              "      border-left-color: var(--fill-color);\n",
              "    }\n",
              "    20% {\n",
              "      border-color: transparent;\n",
              "      border-left-color: var(--fill-color);\n",
              "      border-top-color: var(--fill-color);\n",
              "    }\n",
              "    30% {\n",
              "      border-color: transparent;\n",
              "      border-left-color: var(--fill-color);\n",
              "      border-top-color: var(--fill-color);\n",
              "      border-right-color: var(--fill-color);\n",
              "    }\n",
              "    40% {\n",
              "      border-color: transparent;\n",
              "      border-right-color: var(--fill-color);\n",
              "      border-top-color: var(--fill-color);\n",
              "    }\n",
              "    60% {\n",
              "      border-color: transparent;\n",
              "      border-right-color: var(--fill-color);\n",
              "    }\n",
              "    80% {\n",
              "      border-color: transparent;\n",
              "      border-right-color: var(--fill-color);\n",
              "      border-bottom-color: var(--fill-color);\n",
              "    }\n",
              "    90% {\n",
              "      border-color: transparent;\n",
              "      border-bottom-color: var(--fill-color);\n",
              "    }\n",
              "  }\n",
              "</style>\n",
              "\n",
              "      <script>\n",
              "        async function quickchart(key) {\n",
              "          const quickchartButtonEl =\n",
              "            document.querySelector('#' + key + ' button');\n",
              "          quickchartButtonEl.disabled = true;  // To prevent multiple clicks.\n",
              "          quickchartButtonEl.classList.add('colab-df-spinner');\n",
              "          try {\n",
              "            const charts = await google.colab.kernel.invokeFunction(\n",
              "                'suggestCharts', [key], {});\n",
              "          } catch (error) {\n",
              "            console.error('Error during call to suggestCharts:', error);\n",
              "          }\n",
              "          quickchartButtonEl.classList.remove('colab-df-spinner');\n",
              "          quickchartButtonEl.classList.add('colab-df-quickchart-complete');\n",
              "        }\n",
              "        (() => {\n",
              "          let quickchartButtonEl =\n",
              "            document.querySelector('#df-28d5a58c-ced9-4d9c-90f2-92f2b379342a button');\n",
              "          quickchartButtonEl.style.display =\n",
              "            google.colab.kernel.accessAllowed ? 'block' : 'none';\n",
              "        })();\n",
              "      </script>\n",
              "    </div>\n",
              "\n",
              "    </div>\n",
              "  </div>\n"
            ],
            "application/vnd.google.colaboratory.intrinsic+json": {
              "type": "dataframe",
              "summary": "{\n  \"name\": \"film_deaths\",\n  \"rows\": 8,\n  \"fields\": [\n    {\n      \"column\": \"Year\",\n      \"properties\": {\n        \"dtype\": \"number\",\n        \"std\": 829.5121867552609,\n        \"min\": 10.913209656476903,\n        \"max\": 2009.0,\n        \"num_unique_values\": 8,\n        \"samples\": [\n          1996.4916864608076,\n          2000.0,\n          421.0\n        ],\n        \"semantic_type\": \"\",\n        \"description\": \"\"\n      }\n    },\n    {\n      \"column\": \"Body_Count\",\n      \"properties\": {\n        \"dtype\": \"number\",\n        \"std\": 295.67045200518663,\n        \"min\": 0.0,\n        \"max\": 836.0,\n        \"num_unique_values\": 8,\n        \"samples\": [\n          53.287410926365794,\n          28.0,\n          421.0\n        ],\n        \"semantic_type\": \"\",\n        \"description\": \"\"\n      }\n    },\n    {\n      \"column\": \"Length_Minutes\",\n      \"properties\": {\n        \"dtype\": \"number\",\n        \"std\": 121.43773700550751,\n        \"min\": 21.652286824130123,\n        \"max\": 421.0,\n        \"num_unique_values\": 8,\n        \"samples\": [\n          115.42755344418052,\n          111.0,\n          421.0\n        ],\n        \"semantic_type\": \"\",\n        \"description\": \"\"\n      }\n    },\n    {\n      \"column\": \"IMDB_Rating\",\n      \"properties\": {\n        \"dtype\": \"number\",\n        \"std\": 146.84759580484652,\n        \"min\": 1.1107878634727146,\n        \"max\": 421.0,\n        \"num_unique_values\": 8,\n        \"samples\": [\n          6.882897862232778,\n          6.9,\n          421.0\n        ],\n        \"semantic_type\": \"\",\n        \"description\": \"\"\n      }\n    }\n  ]\n}"
            }
          },
          "metadata": {},
          "execution_count": 7
        }
      ],
      "source": [
        "film_deaths.describe()"
      ]
    },
    {
      "cell_type": "markdown",
      "metadata": {
        "id": "PDyy20C46V2K"
      },
      "source": [
        "In jupyter and jupyter notebook it is possible to see a list of all possible functions and attributes by typing the name of the object followed by .<Tab> for example in the above case if we type film_deaths.<Tab> it show the columns available (these are attributes in pandas dataframes) such as Body_Count, and also functions, such as .describe().\n",
        "\n",
        "For functions we can also see the documentation about the function by following the name with a question mark. This will open a box with documentation at the bottom which can be closed with the x button."
      ]
    },
    {
      "cell_type": "code",
      "execution_count": 8,
      "metadata": {
        "id": "OkEH-CBK6V2K"
      },
      "outputs": [],
      "source": [
        "film_deaths.describe?"
      ]
    },
    {
      "cell_type": "code",
      "execution_count": 12,
      "metadata": {
        "id": "P2c76pTc6V2L",
        "outputId": "66deb56f-8e33-4db7-a8b2-1092dc4e3770",
        "colab": {
          "base_uri": "https://localhost:8080/"
        }
      },
      "outputs": [
        {
          "output_type": "stream",
          "name": "stdout",
          "text": [
            "     Year  Body_Count\n",
            "0    2002           7\n",
            "1    2007          45\n",
            "2    2006           0\n",
            "3    1999           7\n",
            "4    1971          10\n",
            "..    ...         ...\n",
            "416  2007          10\n",
            "417  1967          91\n",
            "418  2007           3\n",
            "419  2001           4\n",
            "420  1964         140\n",
            "\n",
            "[421 rows x 2 columns]\n"
          ]
        }
      ],
      "source": [
        "print(film_deaths[['Year', 'Body_Count']])"
      ]
    },
    {
      "cell_type": "markdown",
      "metadata": {
        "id": "PDqf0V_l6V2L"
      },
      "source": [
        "This shows the number of deaths per film across the years. We can plot the data as follows."
      ]
    },
    {
      "cell_type": "code",
      "execution_count": 13,
      "metadata": {
        "colab": {
          "base_uri": "https://localhost:8080/",
          "height": 447
        },
        "id": "dvnOmTTH6V2L",
        "outputId": "c69d36cb-04b0-471a-c735-c064122dac23"
      },
      "outputs": [
        {
          "output_type": "execute_result",
          "data": {
            "text/plain": [
              "[<matplotlib.lines.Line2D at 0x7ed87fe128d0>]"
            ]
          },
          "metadata": {},
          "execution_count": 13
        },
        {
          "output_type": "display_data",
          "data": {
            "text/plain": [
              "<Figure size 640x480 with 1 Axes>"
            ],
            "image/png": "[encoded data removed]"
          },
          "metadata": {}
        }
      ],
      "source": [
        "# this ensures the plot appears in the web browser\n",
        "%matplotlib inline\n",
        "import pylab as plt # this imports the plotting library in python\n",
        "\n",
        "plt.plot(film_deaths['Year'], film_deaths['Body_Count'], 'rx')"
      ]
    },
    {
      "cell_type": "markdown",
      "metadata": {
        "id": "vrNxP9pu6V2L"
      },
      "source": [
        "You may be curious what the arguments we give to plt.plot are for, now is the perfect time to look at the documentation"
      ]
    },
    {
      "cell_type": "code",
      "execution_count": 14,
      "metadata": {
        "id": "hqP73rC56V2L"
      },
      "outputs": [],
      "source": [
        "plt.plot?"
      ]
    },
    {
      "cell_type": "markdown",
      "metadata": {
        "id": "r4GV9hXc6V2L"
      },
      "source": [
        "We immediately note that some films have a lot of deaths, which prevent us seeing the detail of the main body of films. First lets identify the films with the most deaths."
      ]
    },
    {
      "cell_type": "code",
      "execution_count": 17,
      "metadata": {
        "id": "oDwGG4oA6V2L",
        "outputId": "29d571a3-b8ff-4a07-a7be-abfb95d395b9",
        "colab": {
          "base_uri": "https://localhost:8080/",
          "height": 1000
        }
      },
      "outputs": [
        {
          "output_type": "execute_result",
          "data": {
            "text/plain": [
              "                                              Film  Year  Body_Count  \\\n",
              "60                               Dip huet gaai tau  1990         214   \n",
              "117                                    Equilibrium  2002         236   \n",
              "154                                     Grindhouse  2007         310   \n",
              "159                               Lat sau san taam  1992         307   \n",
              "193                              Kingdom of Heaven  2005         610   \n",
              "206                               The Last Samurai  2003         558   \n",
              "222          The Lord of the Rings: The Two Towers  2002         468   \n",
              "223  The Lord of the Rings: The Return of the King  2003         836   \n",
              "291                                          Rambo  2008         247   \n",
              "317                            Saving Private Ryan  1998         255   \n",
              "349                              Starship Troopers  1997         256   \n",
              "375                                        Titanic  1997         307   \n",
              "382                                           Troy  2004         572   \n",
              "406                               We Were Soldiers  2002         305   \n",
              "\n",
              "    MPAA_Rating                               Genre  \\\n",
              "60          NaN                Crime|Drama|Thriller   \n",
              "117           R        Action|Drama|Sci-Fi|Thriller   \n",
              "154           R              Action|Horror|Thriller   \n",
              "159           R         Action|Crime|Drama|Thriller   \n",
              "193           R  Action|Adventure|Drama|History|War   \n",
              "206           R            Action|Drama|History|War   \n",
              "222       PG-13            Action|Adventure|Fantasy   \n",
              "223       PG-13            Action|Adventure|Fantasy   \n",
              "291           R                 Action|Thriller|War   \n",
              "317           R                    Action|Drama|War   \n",
              "349           R                       Action|Sci-Fi   \n",
              "375       PG-13                       Drama|Romance   \n",
              "382           R                     Adventure|Drama   \n",
              "406           R            Action|Drama|History|War   \n",
              "\n",
              "                                              Director  \\\n",
              "60                                            John Woo   \n",
              "117                                        Kurt Wimmer   \n",
              "154  Robert Rodriguez|Eli Roth|Quentin Tarantino|Ed...   \n",
              "159                                           John Woo   \n",
              "193                                       Ridley Scott   \n",
              "206                                       Edward Zwick   \n",
              "222                                      Peter Jackson   \n",
              "223                                      Peter Jackson   \n",
              "291                                 Sylvester Stallone   \n",
              "317                                   Steven Spielberg   \n",
              "349                                     Paul Verhoeven   \n",
              "375                                      James Cameron   \n",
              "382                                  Wolfgang Petersen   \n",
              "406                                    Randall Wallace   \n",
              "\n",
              "                                                Actors  Length_Minutes  \\\n",
              "60   Tony Leung Chiu Wai|Jacky Cheung|Waise Lee|Sim...             136   \n",
              "117  Christian Bale|Dominic Purcell|Sean Bean|Chris...             107   \n",
              "154  Kurt Russell|Zoë Bell|Rosario Dawson|Vanessa F...             191   \n",
              "159  Yun-Fat Chow|Tony Leung Chiu Wai|Teresa Mo|Phi...             128   \n",
              "193  Martin Hancock|Michael Sheen|Nathalie Cox|Eriq...             144   \n",
              "206  Ken Watanabe|Tom Cruise|William Atherton|Chad ...             154   \n",
              "222  Bruce Allpress|Sean Astin|John Bach|Sala Baker...             179   \n",
              "223  Noel Appleby|Alexandra Astin|Sean Astin|David ...             201   \n",
              "291  Sylvester Stallone|Julie Benz|Matthew Marsden|...              92   \n",
              "317  Tom Hanks|Tom Sizemore|Edward Burns|Barry Pepp...             169   \n",
              "349  Casper Van Dien|Dina Meyer|Denise Richards|Jak...             129   \n",
              "375  Leonardo DiCaprio|Kate Winslet|Billy Zane|Kath...             194   \n",
              "382  Julian Glover|Brian Cox|Nathan Jones|Adoni Mar...             163   \n",
              "406  Mel Gibson|Madeleine Stowe|Greg Kinnear|Sam El...             138   \n",
              "\n",
              "     IMDB_Rating  \n",
              "60           7.7  \n",
              "117          7.6  \n",
              "154          7.7  \n",
              "159          8.0  \n",
              "193          7.2  \n",
              "206          7.7  \n",
              "222          8.8  \n",
              "223          8.9  \n",
              "291          7.1  \n",
              "317          8.6  \n",
              "349          7.2  \n",
              "375          7.7  \n",
              "382          7.2  \n",
              "406          7.1  "
            ],
            "text/html": [
              "\n",
              "  <div id=\"df-494bd370-af35-4e41-b0b2-14196d28afe3\" class=\"colab-df-container\">\n",
              "    <div>\n",
              "<style scoped>\n",
              "    .dataframe tbody tr th:only-of-type {\n",
              "        vertical-align: middle;\n",
              "    }\n",
              "\n",
              "    .dataframe tbody tr th {\n",
              "        vertical-align: top;\n",
              "    }\n",
              "\n",
              "    .dataframe thead th {\n",
              "        text-align: right;\n",
              "    }\n",
              "</style>\n",
              "<table border=\"1\" class=\"dataframe\">\n",
              "  <thead>\n",
              "    <tr style=\"text-align: right;\">\n",
              "      <th></th>\n",
              "      <th>Film</th>\n",
              "      <th>Year</th>\n",
              "      <th>Body_Count</th>\n",
              "      <th>MPAA_Rating</th>\n",
              "      <th>Genre</th>\n",
              "      <th>Director</th>\n",
              "      <th>Actors</th>\n",
              "      <th>Length_Minutes</th>\n",
              "      <th>IMDB_Rating</th>\n",
              "    </tr>\n",
              "  </thead>\n",
              "  <tbody>\n",
              "    <tr>\n",
              "      <th>60</th>\n",
              "      <td>Dip huet gaai tau</td>\n",
              "      <td>1990</td>\n",
              "      <td>214</td>\n",
              "      <td>NaN</td>\n",
              "      <td>Crime|Drama|Thriller</td>\n",
              "      <td>John Woo</td>\n",
              "      <td>Tony Leung Chiu Wai|Jacky Cheung|Waise Lee|Sim...</td>\n",
              "      <td>136</td>\n",
              "      <td>7.7</td>\n",
              "    </tr>\n",
              "    <tr>\n",
              "      <th>117</th>\n",
              "      <td>Equilibrium</td>\n",
              "      <td>2002</td>\n",
              "      <td>236</td>\n",
              "      <td>R</td>\n",
              "      <td>Action|Drama|Sci-Fi|Thriller</td>\n",
              "      <td>Kurt Wimmer</td>\n",
              "      <td>Christian Bale|Dominic Purcell|Sean Bean|Chris...</td>\n",
              "      <td>107</td>\n",
              "      <td>7.6</td>\n",
              "    </tr>\n",
              "    <tr>\n",
              "      <th>154</th>\n",
              "      <td>Grindhouse</td>\n",
              "      <td>2007</td>\n",
              "      <td>310</td>\n",
              "      <td>R</td>\n",
              "      <td>Action|Horror|Thriller</td>\n",
              "      <td>Robert Rodriguez|Eli Roth|Quentin Tarantino|Ed...</td>\n",
              "      <td>Kurt Russell|Zoë Bell|Rosario Dawson|Vanessa F...</td>\n",
              "      <td>191</td>\n",
              "      <td>7.7</td>\n",
              "    </tr>\n",
              "    <tr>\n",
              "      <th>159</th>\n",
              "      <td>Lat sau san taam</td>\n",
              "      <td>1992</td>\n",
              "      <td>307</td>\n",
              "      <td>R</td>\n",
              "      <td>Action|Crime|Drama|Thriller</td>\n",
              "      <td>John Woo</td>\n",
              "      <td>Yun-Fat Chow|Tony Leung Chiu Wai|Teresa Mo|Phi...</td>\n",
              "      <td>128</td>\n",
              "      <td>8.0</td>\n",
              "    </tr>\n",
              "    <tr>\n",
              "      <th>193</th>\n",
              "      <td>Kingdom of Heaven</td>\n",
              "      <td>2005</td>\n",
              "      <td>610</td>\n",
              "      <td>R</td>\n",
              "      <td>Action|Adventure|Drama|History|War</td>\n",
              "      <td>Ridley Scott</td>\n",
              "      <td>Martin Hancock|Michael Sheen|Nathalie Cox|Eriq...</td>\n",
              "      <td>144</td>\n",
              "      <td>7.2</td>\n",
              "    </tr>\n",
              "    <tr>\n",
              "      <th>206</th>\n",
              "      <td>The Last Samurai</td>\n",
              "      <td>2003</td>\n",
              "      <td>558</td>\n",
              "      <td>R</td>\n",
              "      <td>Action|Drama|History|War</td>\n",
              "      <td>Edward Zwick</td>\n",
              "      <td>Ken Watanabe|Tom Cruise|William Atherton|Chad ...</td>\n",
              "      <td>154</td>\n",
              "      <td>7.7</td>\n",
              "    </tr>\n",
              "    <tr>\n",
              "      <th>222</th>\n",
              "      <td>The Lord of the Rings: The Two Towers</td>\n",
              "      <td>2002</td>\n",
              "      <td>468</td>\n",
              "      <td>PG-13</td>\n",
              "      <td>Action|Adventure|Fantasy</td>\n",
              "      <td>Peter Jackson</td>\n",
              "      <td>Bruce Allpress|Sean Astin|John Bach|Sala Baker...</td>\n",
              "      <td>179</td>\n",
              "      <td>8.8</td>\n",
              "    </tr>\n",
              "    <tr>\n",
              "      <th>223</th>\n",
              "      <td>The Lord of the Rings: The Return of the King</td>\n",
              "      <td>2003</td>\n",
              "      <td>836</td>\n",
              "      <td>PG-13</td>\n",
              "      <td>Action|Adventure|Fantasy</td>\n",
              "      <td>Peter Jackson</td>\n",
              "      <td>Noel Appleby|Alexandra Astin|Sean Astin|David ...</td>\n",
              "      <td>201</td>\n",
              "      <td>8.9</td>\n",
              "    </tr>\n",
              "    <tr>\n",
              "      <th>291</th>\n",
              "      <td>Rambo</td>\n",
              "      <td>2008</td>\n",
              "      <td>247</td>\n",
              "      <td>R</td>\n",
              "      <td>Action|Thriller|War</td>\n",
              "      <td>Sylvester Stallone</td>\n",
              "      <td>Sylvester Stallone|Julie Benz|Matthew Marsden|...</td>\n",
              "      <td>92</td>\n",
              "      <td>7.1</td>\n",
              "    </tr>\n",
              "    <tr>\n",
              "      <th>317</th>\n",
              "      <td>Saving Private Ryan</td>\n",
              "      <td>1998</td>\n",
              "      <td>255</td>\n",
              "      <td>R</td>\n",
              "      <td>Action|Drama|War</td>\n",
              "      <td>Steven Spielberg</td>\n",
              "      <td>Tom Hanks|Tom Sizemore|Edward Burns|Barry Pepp...</td>\n",
              "      <td>169</td>\n",
              "      <td>8.6</td>\n",
              "    </tr>\n",
              "    <tr>\n",
              "      <th>349</th>\n",
              "      <td>Starship Troopers</td>\n",
              "      <td>1997</td>\n",
              "      <td>256</td>\n",
              "      <td>R</td>\n",
              "      <td>Action|Sci-Fi</td>\n",
              "      <td>Paul Verhoeven</td>\n",
              "      <td>Casper Van Dien|Dina Meyer|Denise Richards|Jak...</td>\n",
              "      <td>129</td>\n",
              "      <td>7.2</td>\n",
              "    </tr>\n",
              "    <tr>\n",
              "      <th>375</th>\n",
              "      <td>Titanic</td>\n",
              "      <td>1997</td>\n",
              "      <td>307</td>\n",
              "      <td>PG-13</td>\n",
              "      <td>Drama|Romance</td>\n",
              "      <td>James Cameron</td>\n",
              "      <td>Leonardo DiCaprio|Kate Winslet|Billy Zane|Kath...</td>\n",
              "      <td>194</td>\n",
              "      <td>7.7</td>\n",
              "    </tr>\n",
              "    <tr>\n",
              "      <th>382</th>\n",
              "      <td>Troy</td>\n",
              "      <td>2004</td>\n",
              "      <td>572</td>\n",
              "      <td>R</td>\n",
              "      <td>Adventure|Drama</td>\n",
              "      <td>Wolfgang Petersen</td>\n",
              "      <td>Julian Glover|Brian Cox|Nathan Jones|Adoni Mar...</td>\n",
              "      <td>163</td>\n",
              "      <td>7.2</td>\n",
              "    </tr>\n",
              "    <tr>\n",
              "      <th>406</th>\n",
              "      <td>We Were Soldiers</td>\n",
              "      <td>2002</td>\n",
              "      <td>305</td>\n",
              "      <td>R</td>\n",
              "      <td>Action|Drama|History|War</td>\n",
              "      <td>Randall Wallace</td>\n",
              "      <td>Mel Gibson|Madeleine Stowe|Greg Kinnear|Sam El...</td>\n",
              "      <td>138</td>\n",
              "      <td>7.1</td>\n",
              "    </tr>\n",
              "  </tbody>\n",
              "</table>\n",
              "</div>\n",
              "    <div class=\"colab-df-buttons\">\n",
              "\n",
              "  <div class=\"colab-df-container\">\n",
              "    <button class=\"colab-df-convert\" onclick=\"convertToInteractive('df-494bd370-af35-4e41-b0b2-14196d28afe3')\"\n",
              "            title=\"Convert this dataframe to an interactive table.\"\n",
              "            style=\"display:none;\">\n",
              "\n",
              "  <svg xmlns=\"http://www.w3.org/2000/svg\" height=\"24px\" viewBox=\"0 -960 960 960\">\n",
              "    <path d=\"M120-120v-720h720v720H120Zm60-500h600v-160H180v160Zm220 220h160v-160H400v160Zm0 220h160v-160H400v160ZM180-400h160v-160H180v160Zm440 0h160v-160H620v160ZM180-180h160v-160H180v160Zm440 0h160v-160H620v160Z\"/>\n",
              "  </svg>\n",
              "    </button>\n",
              "\n",
              "  <style>\n",
              "    .colab-df-container {\n",
              "      display:flex;\n",
              "      gap: 12px;\n",
              "    }\n",
              "\n",
              "    .colab-df-convert {\n",
              "      background-color: #E8F0FE;\n",
              "      border: none;\n",
              "      border-radius: 50%;\n",
              "      cursor: pointer;\n",
              "      display: none;\n",
              "      fill: #1967D2;\n",
              "      height: 32px;\n",
              "      padding: 0 0 0 0;\n",
              "      width: 32px;\n",
              "    }\n",
              "\n",
              "    .colab-df-convert:hover {\n",
              "      background-color: #E2EBFA;\n",
              "      box-shadow: 0px 1px 2px rgba(60, 64, 67, 0.3), 0px 1px 3px 1px rgba(60, 64, 67, 0.15);\n",
              "      fill: #174EA6;\n",
              "    }\n",
              "\n",
              "    .colab-df-buttons div {\n",
              "      margin-bottom: 4px;\n",
              "    }\n",
              "\n",
              "    [theme=dark] .colab-df-convert {\n",
              "      background-color: #3B4455;\n",
              "      fill: #D2E3FC;\n",
              "    }\n",
              "\n",
              "    [theme=dark] .colab-df-convert:hover {\n",
              "      background-color: #434B5C;\n",
              "      box-shadow: 0px 1px 3px 1px rgba(0, 0, 0, 0.15);\n",
              "      filter: drop-shadow(0px 1px 2px rgba(0, 0, 0, 0.3));\n",
              "      fill: #FFFFFF;\n",
              "    }\n",
              "  </style>\n",
              "\n",
              "    <script>\n",
              "      const buttonEl =\n",
              "        document.querySelector('#df-494bd370-af35-4e41-b0b2-14196d28afe3 button.colab-df-convert');\n",
              "      buttonEl.style.display =\n",
              "        google.colab.kernel.accessAllowed ? 'block' : 'none';\n",
              "\n",
              "      async function convertToInteractive(key) {\n",
              "        const element = document.querySelector('#df-494bd370-af35-4e41-b0b2-14196d28afe3');\n",
              "        const dataTable =\n",
              "          await google.colab.kernel.invokeFunction('convertToInteractive',\n",
              "                                                    [key], {});\n",
              "        if (!dataTable) return;\n",
              "\n",
              "        const docLinkHtml = 'Like what you see? Visit the ' +\n",
              "          '<a target=\"_blank\" href=https://colab.research.google.com/notebooks/data_table.ipynb>data table notebook</a>'\n",
              "          + ' to learn more about interactive tables.';\n",
              "        element.innerHTML = '';\n",
              "        dataTable['output_type'] = 'display_data';\n",
              "        await google.colab.output.renderOutput(dataTable, element);\n",
              "        const docLink = document.createElement('div');\n",
              "        docLink.innerHTML = docLinkHtml;\n",
              "        element.appendChild(docLink);\n",
              "      }\n",
              "    </script>\n",
              "  </div>\n",
              "\n",
              "\n",
              "    <div id=\"df-79582e51-93c9-440a-bafc-1cb68be00970\">\n",
              "      <button class=\"colab-df-quickchart\" onclick=\"quickchart('df-79582e51-93c9-440a-bafc-1cb68be00970')\"\n",
              "                title=\"Suggest charts\"\n",
              "                style=\"display:none;\">\n",
              "\n",
              "<svg xmlns=\"http://www.w3.org/2000/svg\" height=\"24px\"viewBox=\"0 0 24 24\"\n",
              "     width=\"24px\">\n",
              "    <g>\n",
              "        <path d=\"M19 3H5c-1.1 0-2 .9-2 2v14c0 1.1.9 2 2 2h14c1.1 0 2-.9 2-2V5c0-1.1-.9-2-2-2zM9 17H7v-7h2v7zm4 0h-2V7h2v10zm4 0h-2v-4h2v4z\"/>\n",
              "    </g>\n",
              "</svg>\n",
              "      </button>\n",
              "\n",
              "<style>\n",
              "  .colab-df-quickchart {\n",
              "      --bg-color: #E8F0FE;\n",
              "      --fill-color: #1967D2;\n",
              "      --hover-bg-color: #E2EBFA;\n",
              "      --hover-fill-color: #174EA6;\n",
              "      --disabled-fill-color: #AAA;\n",
              "      --disabled-bg-color: #DDD;\n",
              "  }\n",
              "\n",
              "  [theme=dark] .colab-df-quickchart {\n",
              "      --bg-color: #3B4455;\n",
              "      --fill-color: #D2E3FC;\n",
              "      --hover-bg-color: #434B5C;\n",
              "      --hover-fill-color: #FFFFFF;\n",
              "      --disabled-bg-color: #3B4455;\n",
              "      --disabled-fill-color: #666;\n",
              "  }\n",
              "\n",
              "  .colab-df-quickchart {\n",
              "    background-color: var(--bg-color);\n",
              "    border: none;\n",
              "    border-radius: 50%;\n",
              "    cursor: pointer;\n",
              "    display: none;\n",
              "    fill: var(--fill-color);\n",
              "    height: 32px;\n",
              "    padding: 0;\n",
              "    width: 32px;\n",
              "  }\n",
              "\n",
              "  .colab-df-quickchart:hover {\n",
              "    background-color: var(--hover-bg-color);\n",
              "    box-shadow: 0 1px 2px rgba(60, 64, 67, 0.3), 0 1px 3px 1px rgba(60, 64, 67, 0.15);\n",
              "    fill: var(--button-hover-fill-color);\n",
              "  }\n",
              "\n",
              "  .colab-df-quickchart-complete:disabled,\n",
              "  .colab-df-quickchart-complete:disabled:hover {\n",
              "    background-color: var(--disabled-bg-color);\n",
              "    fill: var(--disabled-fill-color);\n",
              "    box-shadow: none;\n",
              "  }\n",
              "\n",
              "  .colab-df-spinner {\n",
              "    border: 2px solid var(--fill-color);\n",
              "    border-color: transparent;\n",
              "    border-bottom-color: var(--fill-color);\n",
              "    animation:\n",
              "      spin 1s steps(1) infinite;\n",
              "  }\n",
              "\n",
              "  @keyframes spin {\n",
              "    0% {\n",
              "      border-color: transparent;\n",
              "      border-bottom-color: var(--fill-color);\n",
              "      border-left-color: var(--fill-color);\n",
              "    }\n",
              "    20% {\n",
              "      border-color: transparent;\n",
              "      border-left-color: var(--fill-color);\n",
              "      border-top-color: var(--fill-color);\n",
              "    }\n",
              "    30% {\n",
              "      border-color: transparent;\n",
              "      border-left-color: var(--fill-color);\n",
              "      border-top-color: var(--fill-color);\n",
              "      border-right-color: var(--fill-color);\n",
              "    }\n",
              "    40% {\n",
              "      border-color: transparent;\n",
              "      border-right-color: var(--fill-color);\n",
              "      border-top-color: var(--fill-color);\n",
              "    }\n",
              "    60% {\n",
              "      border-color: transparent;\n",
              "      border-right-color: var(--fill-color);\n",
              "    }\n",
              "    80% {\n",
              "      border-color: transparent;\n",
              "      border-right-color: var(--fill-color);\n",
              "      border-bottom-color: var(--fill-color);\n",
              "    }\n",
              "    90% {\n",
              "      border-color: transparent;\n",
              "      border-bottom-color: var(--fill-color);\n",
              "    }\n",
              "  }\n",
              "</style>\n",
              "\n",
              "      <script>\n",
              "        async function quickchart(key) {\n",
              "          const quickchartButtonEl =\n",
              "            document.querySelector('#' + key + ' button');\n",
              "          quickchartButtonEl.disabled = true;  // To prevent multiple clicks.\n",
              "          quickchartButtonEl.classList.add('colab-df-spinner');\n",
              "          try {\n",
              "            const charts = await google.colab.kernel.invokeFunction(\n",
              "                'suggestCharts', [key], {});\n",
              "          } catch (error) {\n",
              "            console.error('Error during call to suggestCharts:', error);\n",
              "          }\n",
              "          quickchartButtonEl.classList.remove('colab-df-spinner');\n",
              "          quickchartButtonEl.classList.add('colab-df-quickchart-complete');\n",
              "        }\n",
              "        (() => {\n",
              "          let quickchartButtonEl =\n",
              "            document.querySelector('#df-79582e51-93c9-440a-bafc-1cb68be00970 button');\n",
              "          quickchartButtonEl.style.display =\n",
              "            google.colab.kernel.accessAllowed ? 'block' : 'none';\n",
              "        })();\n",
              "      </script>\n",
              "    </div>\n",
              "\n",
              "    </div>\n",
              "  </div>\n"
            ],
            "application/vnd.google.colaboratory.intrinsic+json": {
              "type": "dataframe",
              "summary": "{\n  \"name\": \"film_deaths[film_deaths['Body_Count']>200]\",\n  \"rows\": 14,\n  \"fields\": [\n    {\n      \"column\": \"Film\",\n      \"properties\": {\n        \"dtype\": \"string\",\n        \"num_unique_values\": 14,\n        \"samples\": [\n          \"Saving Private Ryan\",\n          \"Titanic\",\n          \"Dip huet gaai tau\"\n        ],\n        \"semantic_type\": \"\",\n        \"description\": \"\"\n      }\n    },\n    {\n      \"column\": \"Year\",\n      \"properties\": {\n        \"dtype\": \"number\",\n        \"std\": 5,\n        \"min\": 1990,\n        \"max\": 2008,\n        \"num_unique_values\": 10,\n        \"samples\": [\n          1997,\n          2002,\n          2003\n        ],\n        \"semantic_type\": \"\",\n        \"description\": \"\"\n      }\n    },\n    {\n      \"column\": \"Body_Count\",\n      \"properties\": {\n        \"dtype\": \"number\",\n        \"std\": 186,\n        \"min\": 214,\n        \"max\": 836,\n        \"num_unique_values\": 13,\n        \"samples\": [\n          572,\n          255,\n          214\n        ],\n        \"semantic_type\": \"\",\n        \"description\": \"\"\n      }\n    },\n    {\n      \"column\": \"MPAA_Rating\",\n      \"properties\": {\n        \"dtype\": \"category\",\n        \"num_unique_values\": 2,\n        \"samples\": [\n          \"PG-13\",\n          \"R\"\n        ],\n        \"semantic_type\": \"\",\n        \"description\": \"\"\n      }\n    },\n    {\n      \"column\": \"Genre\",\n      \"properties\": {\n        \"dtype\": \"string\",\n        \"num_unique_values\": 12,\n        \"samples\": [\n          \"Drama|Romance\",\n          \"Action|Sci-Fi\"\n        ],\n        \"semantic_type\": \"\",\n        \"description\": \"\"\n      }\n    },\n    {\n      \"column\": \"Director\",\n      \"properties\": {\n        \"dtype\": \"string\",\n        \"num_unique_values\": 12,\n        \"samples\": [\n          \"Wolfgang Petersen\",\n          \"James Cameron\"\n        ],\n        \"semantic_type\": \"\",\n        \"description\": \"\"\n      }\n    },\n    {\n      \"column\": \"Actors\",\n      \"properties\": {\n        \"dtype\": \"string\",\n        \"num_unique_values\": 14,\n        \"samples\": [\n          \"Tom Hanks|Tom Sizemore|Edward Burns|Barry Pepper|Adam Goldberg|Vin Diesel|Giovanni Ribisi|Jeremy Davies|Matt Damon|Ted Danson|Paul Giamatti|Dennis Farina|Joerg Stadler|Max Martini|Dylan Bruno|Daniel Cerqueira|Demetri Goritsas|Ian Porter|Gary Sefton|Julian Spencer|Steve Griffin|William Marsh|Marc Cass|Markus Napier|Neil Finnighan|Peter Miles|Paul Garcia|Seamus McQuade|Ronald Longridge|Adam Shaw|Rolf Saxon|Corey Johnson|Loclann Aiken|John Barnett|Maclean Burke|Victor Burke|Aiden Condron|Paschal Friel|Shane Hagan|Paul Hickey|Shane Johnson|Laird Macintosh|Brian Maynard|Martin McDougall|Mark Phillips|Lee Aaron Rosen|Andrew Scott|Matthew Sharp|Vincent Walsh|Grahame Wood|John Sharian|Glenn Wrage|Crofton Hardester|Martin Hub|Raffaello Degruttola|Nigel Whitmey|Sam Ellis|Erich Redman|Tilo Keiner|Stephan Grothgar|Stephane Cornicard|Michelle Evans|Martin Beaton|Anna Maguire|Nathan Fillion|Leland Orser|Michael Mantas|David Vegh|Ryan Hurst|Nick Brooks|Sam Scudder|John Walters|Dorothy Grumbar|James Innes-Smith|Harve Presnell|Dale Dye|Bryan Cranston|David Wohl|Eric Loren|Valerie Colgan|Amanda Boxer|Harrison Young|Kathleen Byron|Rob Freeman|Thomas Gizbert|John de Lancie|James Embree|Declan Geraghty|Taylor Murphy|Abbe Muschallik|Nina Muschallik|Paul Sacks|Mac Steinmeier|Vincent Ventresca\",\n          \"Leonardo DiCaprio|Kate Winslet|Billy Zane|Kathy Bates|Frances Fisher|Gloria Stuart|Bill Paxton|Bernard Hill|David Warner|Victor Garber|Jonathan Hyde|Suzy Amis|Lewis Abernathy|Nicholas Cascone|Anatoly M. Sagalevitch|Danny Nucci|Jason Barry|Ewan Stewart|Ioan Gruffudd|Jonny Phillips|Mark Lindsay Chapman|Richard Graham|Paul Brightwell|Ron Donachie|Eric Braeden|Charlotte Chatton|Bernard Fox|Michael Ensign|Fannie Brett|Jenette Goldstein|Camilla Overbye Roos|Linda Kerns|Amy Gaipa|Martin Jarvis|Rosalind Ayres|Rochelle Rose|Jonathan Evans-Jones|Brian Walsh|Rocky Taylor|Alexandrea Owens|Simon Crane|Edward Fletcher|Scott G. Anderson|Martin East|Craig Kelly|Gregory Cooke|Liam Tuohy|James Lancaster|Elsa Raven|Lew Palter|Reece P. Thompson III|Laramie Landis|Amber Waddell|Alison Waddell|Mark Rafael Truitt|John Walcutt|Terry Forrestal|Derek Lea|Richard Ashton|Sean Nepita|Brendan Connolly|David Cronnelly|Garth Wilton|Martin Laing|Richard Fox|Nick Meaney|Kevin Owers|Mark Capri|Marc Cass|Paul Herbert|Emmett James|Chris Byrne|Oliver Page|James Garrett|Erik Holland|Jari Kinnunen|Anders Falk|Martin Hub|Seth Adkins|Barry Dennen|Vern Urich|Rebecca Klingler|Tricia O'Neil|Kathleen S. Dunn|Romeo Francis|Mandana Marino|Van Ling|Bj\\u00f8rn Olsen|Dan Pettersson|Shay Duffin|Greg Ellis|Diana Morgan|Lorenz Hasler|Thomas F\\u00fcri|Ferenc Szedl\\u00e1k|B\\u00e9la Szedl\\u00e1k|Werner Giger|Patrick Murphy|Stephen Wehmeyer|Stephen Twigger|Shep Lonsdale|Samantha Hunt|Kris Andersson|Bobbie Bates|Aaron James Cash|Anne Fletcher|Edmond Alan Forsyth|Andie Hicks|Scott Hislop|Stan Mazin|Lisa Ratzin|Julene Renee|Brian Baines|Alexandra Boyd|Mike Butters|James Cameron|Bruno Campolo|Chris Cragnotti|Kevyn Currie|Kevin De La Noy|Sean Howse|Rudy Joffroy|Tony Kenny|Sean Lawlor|John Leonhardt|Don Lynch|Johnny Martin|Meghan McLeod|Mike O'Neal|Barbarella Pardo|Phil Parlapiano|Judy Prestininzi|Steven Quale|Olivia Rosewood|John Slade|Stephen Wolfe Smith|R. Gern Trowbridge|Miguel Angel Varela Fimbres|Francisco V\\u00e1ldez\"\n        ],\n        \"semantic_type\": \"\",\n        \"description\": \"\"\n      }\n    },\n    {\n      \"column\": \"Length_Minutes\",\n      \"properties\": {\n        \"dtype\": \"number\",\n        \"std\": 32,\n        \"min\": 92,\n        \"max\": 201,\n        \"num_unique_values\": 14,\n        \"samples\": [\n          169,\n          194\n        ],\n        \"semantic_type\": \"\",\n        \"description\": \"\"\n      }\n    },\n    {\n      \"column\": \"IMDB_Rating\",\n      \"properties\": {\n        \"dtype\": \"number\",\n        \"std\": 0.6198635085490752,\n        \"min\": 7.1,\n        \"max\": 8.9,\n        \"num_unique_values\": 8,\n        \"samples\": [\n          7.6,\n          8.9\n        ],\n        \"semantic_type\": \"\",\n        \"description\": \"\"\n      }\n    }\n  ]\n}"
            }
          },
          "metadata": {},
          "execution_count": 17
        }
      ],
      "source": [
        "film_deaths[film_deaths['Body_Count']>200]"
      ]
    },
    {
      "cell_type": "markdown",
      "metadata": {
        "id": "-xVDcgWH6V2L"
      },
      "source": [
        "Here we are using the command `film_deaths['Body_Count']>200` to index the films in the pandas data frame which have over 200 deaths. To sort them in order we can also use the `sort` command. The result of this command on its own is a data series of `True` and `False` values. However, when it is passed to the `film_deaths` data frame it returns a new data frame which contains only those values for which the data series is `True`. We can also sort the result. To sort the result by the values in the `Body_Count` column in *descending* order we use the following command."
      ]
    },
    {
      "cell_type": "code",
      "execution_count": 18,
      "metadata": {
        "id": "_Pxbz9hT6V2L",
        "outputId": "843c894e-1edc-42dc-ebdd-9e0e3efa7e55",
        "colab": {
          "base_uri": "https://localhost:8080/",
          "height": 1000
        }
      },
      "outputs": [
        {
          "output_type": "execute_result",
          "data": {
            "text/plain": [
              "                                              Film  Year  Body_Count  \\\n",
              "223  The Lord of the Rings: The Return of the King  2003         836   \n",
              "193                              Kingdom of Heaven  2005         610   \n",
              "382                                           Troy  2004         572   \n",
              "206                               The Last Samurai  2003         558   \n",
              "222          The Lord of the Rings: The Two Towers  2002         468   \n",
              "154                                     Grindhouse  2007         310   \n",
              "159                               Lat sau san taam  1992         307   \n",
              "375                                        Titanic  1997         307   \n",
              "406                               We Were Soldiers  2002         305   \n",
              "349                              Starship Troopers  1997         256   \n",
              "317                            Saving Private Ryan  1998         255   \n",
              "291                                          Rambo  2008         247   \n",
              "117                                    Equilibrium  2002         236   \n",
              "60                               Dip huet gaai tau  1990         214   \n",
              "\n",
              "    MPAA_Rating                               Genre  \\\n",
              "223       PG-13            Action|Adventure|Fantasy   \n",
              "193           R  Action|Adventure|Drama|History|War   \n",
              "382           R                     Adventure|Drama   \n",
              "206           R            Action|Drama|History|War   \n",
              "222       PG-13            Action|Adventure|Fantasy   \n",
              "154           R              Action|Horror|Thriller   \n",
              "159           R         Action|Crime|Drama|Thriller   \n",
              "375       PG-13                       Drama|Romance   \n",
              "406           R            Action|Drama|History|War   \n",
              "349           R                       Action|Sci-Fi   \n",
              "317           R                    Action|Drama|War   \n",
              "291           R                 Action|Thriller|War   \n",
              "117           R        Action|Drama|Sci-Fi|Thriller   \n",
              "60          NaN                Crime|Drama|Thriller   \n",
              "\n",
              "                                              Director  \\\n",
              "223                                      Peter Jackson   \n",
              "193                                       Ridley Scott   \n",
              "382                                  Wolfgang Petersen   \n",
              "206                                       Edward Zwick   \n",
              "222                                      Peter Jackson   \n",
              "154  Robert Rodriguez|Eli Roth|Quentin Tarantino|Ed...   \n",
              "159                                           John Woo   \n",
              "375                                      James Cameron   \n",
              "406                                    Randall Wallace   \n",
              "349                                     Paul Verhoeven   \n",
              "317                                   Steven Spielberg   \n",
              "291                                 Sylvester Stallone   \n",
              "117                                        Kurt Wimmer   \n",
              "60                                            John Woo   \n",
              "\n",
              "                                                Actors  Length_Minutes  \\\n",
              "223  Noel Appleby|Alexandra Astin|Sean Astin|David ...             201   \n",
              "193  Martin Hancock|Michael Sheen|Nathalie Cox|Eriq...             144   \n",
              "382  Julian Glover|Brian Cox|Nathan Jones|Adoni Mar...             163   \n",
              "206  Ken Watanabe|Tom Cruise|William Atherton|Chad ...             154   \n",
              "222  Bruce Allpress|Sean Astin|John Bach|Sala Baker...             179   \n",
              "154  Kurt Russell|Zoë Bell|Rosario Dawson|Vanessa F...             191   \n",
              "159  Yun-Fat Chow|Tony Leung Chiu Wai|Teresa Mo|Phi...             128   \n",
              "375  Leonardo DiCaprio|Kate Winslet|Billy Zane|Kath...             194   \n",
              "406  Mel Gibson|Madeleine Stowe|Greg Kinnear|Sam El...             138   \n",
              "349  Casper Van Dien|Dina Meyer|Denise Richards|Jak...             129   \n",
              "317  Tom Hanks|Tom Sizemore|Edward Burns|Barry Pepp...             169   \n",
              "291  Sylvester Stallone|Julie Benz|Matthew Marsden|...              92   \n",
              "117  Christian Bale|Dominic Purcell|Sean Bean|Chris...             107   \n",
              "60   Tony Leung Chiu Wai|Jacky Cheung|Waise Lee|Sim...             136   \n",
              "\n",
              "     IMDB_Rating  \n",
              "223          8.9  \n",
              "193          7.2  \n",
              "382          7.2  \n",
              "206          7.7  \n",
              "222          8.8  \n",
              "154          7.7  \n",
              "159          8.0  \n",
              "375          7.7  \n",
              "406          7.1  \n",
              "349          7.2  \n",
              "317          8.6  \n",
              "291          7.1  \n",
              "117          7.6  \n",
              "60           7.7  "
            ],
            "text/html": [
              "\n",
              "  <div id=\"df-8ae1346e-a1bd-4ffd-8e4d-b7fac20d7fe9\" class=\"colab-df-container\">\n",
              "    <div>\n",
              "<style scoped>\n",
              "    .dataframe tbody tr th:only-of-type {\n",
              "        vertical-align: middle;\n",
              "    }\n",
              "\n",
              "    .dataframe tbody tr th {\n",
              "        vertical-align: top;\n",
              "    }\n",
              "\n",
              "    .dataframe thead th {\n",
              "        text-align: right;\n",
              "    }\n",
              "</style>\n",
              "<table border=\"1\" class=\"dataframe\">\n",
              "  <thead>\n",
              "    <tr style=\"text-align: right;\">\n",
              "      <th></th>\n",
              "      <th>Film</th>\n",
              "      <th>Year</th>\n",
              "      <th>Body_Count</th>\n",
              "      <th>MPAA_Rating</th>\n",
              "      <th>Genre</th>\n",
              "      <th>Director</th>\n",
              "      <th>Actors</th>\n",
              "      <th>Length_Minutes</th>\n",
              "      <th>IMDB_Rating</th>\n",
              "    </tr>\n",
              "  </thead>\n",
              "  <tbody>\n",
              "    <tr>\n",
              "      <th>223</th>\n",
              "      <td>The Lord of the Rings: The Return of the King</td>\n",
              "      <td>2003</td>\n",
              "      <td>836</td>\n",
              "      <td>PG-13</td>\n",
              "      <td>Action|Adventure|Fantasy</td>\n",
              "      <td>Peter Jackson</td>\n",
              "      <td>Noel Appleby|Alexandra Astin|Sean Astin|David ...</td>\n",
              "      <td>201</td>\n",
              "      <td>8.9</td>\n",
              "    </tr>\n",
              "    <tr>\n",
              "      <th>193</th>\n",
              "      <td>Kingdom of Heaven</td>\n",
              "      <td>2005</td>\n",
              "      <td>610</td>\n",
              "      <td>R</td>\n",
              "      <td>Action|Adventure|Drama|History|War</td>\n",
              "      <td>Ridley Scott</td>\n",
              "      <td>Martin Hancock|Michael Sheen|Nathalie Cox|Eriq...</td>\n",
              "      <td>144</td>\n",
              "      <td>7.2</td>\n",
              "    </tr>\n",
              "    <tr>\n",
              "      <th>382</th>\n",
              "      <td>Troy</td>\n",
              "      <td>2004</td>\n",
              "      <td>572</td>\n",
              "      <td>R</td>\n",
              "      <td>Adventure|Drama</td>\n",
              "      <td>Wolfgang Petersen</td>\n",
              "      <td>Julian Glover|Brian Cox|Nathan Jones|Adoni Mar...</td>\n",
              "      <td>163</td>\n",
              "      <td>7.2</td>\n",
              "    </tr>\n",
              "    <tr>\n",
              "      <th>206</th>\n",
              "      <td>The Last Samurai</td>\n",
              "      <td>2003</td>\n",
              "      <td>558</td>\n",
              "      <td>R</td>\n",
              "      <td>Action|Drama|History|War</td>\n",
              "      <td>Edward Zwick</td>\n",
              "      <td>Ken Watanabe|Tom Cruise|William Atherton|Chad ...</td>\n",
              "      <td>154</td>\n",
              "      <td>7.7</td>\n",
              "    </tr>\n",
              "    <tr>\n",
              "      <th>222</th>\n",
              "      <td>The Lord of the Rings: The Two Towers</td>\n",
              "      <td>2002</td>\n",
              "      <td>468</td>\n",
              "      <td>PG-13</td>\n",
              "      <td>Action|Adventure|Fantasy</td>\n",
              "      <td>Peter Jackson</td>\n",
              "      <td>Bruce Allpress|Sean Astin|John Bach|Sala Baker...</td>\n",
              "      <td>179</td>\n",
              "      <td>8.8</td>\n",
              "    </tr>\n",
              "    <tr>\n",
              "      <th>154</th>\n",
              "      <td>Grindhouse</td>\n",
              "      <td>2007</td>\n",
              "      <td>310</td>\n",
              "      <td>R</td>\n",
              "      <td>Action|Horror|Thriller</td>\n",
              "      <td>Robert Rodriguez|Eli Roth|Quentin Tarantino|Ed...</td>\n",
              "      <td>Kurt Russell|Zoë Bell|Rosario Dawson|Vanessa F...</td>\n",
              "      <td>191</td>\n",
              "      <td>7.7</td>\n",
              "    </tr>\n",
              "    <tr>\n",
              "      <th>159</th>\n",
              "      <td>Lat sau san taam</td>\n",
              "      <td>1992</td>\n",
              "      <td>307</td>\n",
              "      <td>R</td>\n",
              "      <td>Action|Crime|Drama|Thriller</td>\n",
              "      <td>John Woo</td>\n",
              "      <td>Yun-Fat Chow|Tony Leung Chiu Wai|Teresa Mo|Phi...</td>\n",
              "      <td>128</td>\n",
              "      <td>8.0</td>\n",
              "    </tr>\n",
              "    <tr>\n",
              "      <th>375</th>\n",
              "      <td>Titanic</td>\n",
              "      <td>1997</td>\n",
              "      <td>307</td>\n",
              "      <td>PG-13</td>\n",
              "      <td>Drama|Romance</td>\n",
              "      <td>James Cameron</td>\n",
              "      <td>Leonardo DiCaprio|Kate Winslet|Billy Zane|Kath...</td>\n",
              "      <td>194</td>\n",
              "      <td>7.7</td>\n",
              "    </tr>\n",
              "    <tr>\n",
              "      <th>406</th>\n",
              "      <td>We Were Soldiers</td>\n",
              "      <td>2002</td>\n",
              "      <td>305</td>\n",
              "      <td>R</td>\n",
              "      <td>Action|Drama|History|War</td>\n",
              "      <td>Randall Wallace</td>\n",
              "      <td>Mel Gibson|Madeleine Stowe|Greg Kinnear|Sam El...</td>\n",
              "      <td>138</td>\n",
              "      <td>7.1</td>\n",
              "    </tr>\n",
              "    <tr>\n",
              "      <th>349</th>\n",
              "      <td>Starship Troopers</td>\n",
              "      <td>1997</td>\n",
              "      <td>256</td>\n",
              "      <td>R</td>\n",
              "      <td>Action|Sci-Fi</td>\n",
              "      <td>Paul Verhoeven</td>\n",
              "      <td>Casper Van Dien|Dina Meyer|Denise Richards|Jak...</td>\n",
              "      <td>129</td>\n",
              "      <td>7.2</td>\n",
              "    </tr>\n",
              "    <tr>\n",
              "      <th>317</th>\n",
              "      <td>Saving Private Ryan</td>\n",
              "      <td>1998</td>\n",
              "      <td>255</td>\n",
              "      <td>R</td>\n",
              "      <td>Action|Drama|War</td>\n",
              "      <td>Steven Spielberg</td>\n",
              "      <td>Tom Hanks|Tom Sizemore|Edward Burns|Barry Pepp...</td>\n",
              "      <td>169</td>\n",
              "      <td>8.6</td>\n",
              "    </tr>\n",
              "    <tr>\n",
              "      <th>291</th>\n",
              "      <td>Rambo</td>\n",
              "      <td>2008</td>\n",
              "      <td>247</td>\n",
              "      <td>R</td>\n",
              "      <td>Action|Thriller|War</td>\n",
              "      <td>Sylvester Stallone</td>\n",
              "      <td>Sylvester Stallone|Julie Benz|Matthew Marsden|...</td>\n",
              "      <td>92</td>\n",
              "      <td>7.1</td>\n",
              "    </tr>\n",
              "    <tr>\n",
              "      <th>117</th>\n",
              "      <td>Equilibrium</td>\n",
              "      <td>2002</td>\n",
              "      <td>236</td>\n",
              "      <td>R</td>\n",
              "      <td>Action|Drama|Sci-Fi|Thriller</td>\n",
              "      <td>Kurt Wimmer</td>\n",
              "      <td>Christian Bale|Dominic Purcell|Sean Bean|Chris...</td>\n",
              "      <td>107</td>\n",
              "      <td>7.6</td>\n",
              "    </tr>\n",
              "    <tr>\n",
              "      <th>60</th>\n",
              "      <td>Dip huet gaai tau</td>\n",
              "      <td>1990</td>\n",
              "      <td>214</td>\n",
              "      <td>NaN</td>\n",
              "      <td>Crime|Drama|Thriller</td>\n",
              "      <td>John Woo</td>\n",
              "      <td>Tony Leung Chiu Wai|Jacky Cheung|Waise Lee|Sim...</td>\n",
              "      <td>136</td>\n",
              "      <td>7.7</td>\n",
              "    </tr>\n",
              "  </tbody>\n",
              "</table>\n",
              "</div>\n",
              "    <div class=\"colab-df-buttons\">\n",
              "\n",
              "  <div class=\"colab-df-container\">\n",
              "    <button class=\"colab-df-convert\" onclick=\"convertToInteractive('df-8ae1346e-a1bd-4ffd-8e4d-b7fac20d7fe9')\"\n",
              "            title=\"Convert this dataframe to an interactive table.\"\n",
              "            style=\"display:none;\">\n",
              "\n",
              "  <svg xmlns=\"http://www.w3.org/2000/svg\" height=\"24px\" viewBox=\"0 -960 960 960\">\n",
              "    <path d=\"M120-120v-720h720v720H120Zm60-500h600v-160H180v160Zm220 220h160v-160H400v160Zm0 220h160v-160H400v160ZM180-400h160v-160H180v160Zm440 0h160v-160H620v160ZM180-180h160v-160H180v160Zm440 0h160v-160H620v160Z\"/>\n",
              "  </svg>\n",
              "    </button>\n",
              "\n",
              "  <style>\n",
              "    .colab-df-container {\n",
              "      display:flex;\n",
              "      gap: 12px;\n",
              "    }\n",
              "\n",
              "    .colab-df-convert {\n",
              "      background-color: #E8F0FE;\n",
              "      border: none;\n",
              "      border-radius: 50%;\n",
              "      cursor: pointer;\n",
              "      display: none;\n",
              "      fill: #1967D2;\n",
              "      height: 32px;\n",
              "      padding: 0 0 0 0;\n",
              "      width: 32px;\n",
              "    }\n",
              "\n",
              "    .colab-df-convert:hover {\n",
              "      background-color: #E2EBFA;\n",
              "      box-shadow: 0px 1px 2px rgba(60, 64, 67, 0.3), 0px 1px 3px 1px rgba(60, 64, 67, 0.15);\n",
              "      fill: #174EA6;\n",
              "    }\n",
              "\n",
              "    .colab-df-buttons div {\n",
              "      margin-bottom: 4px;\n",
              "    }\n",
              "\n",
              "    [theme=dark] .colab-df-convert {\n",
              "      background-color: #3B4455;\n",
              "      fill: #D2E3FC;\n",
              "    }\n",
              "\n",
              "    [theme=dark] .colab-df-convert:hover {\n",
              "      background-color: #434B5C;\n",
              "      box-shadow: 0px 1px 3px 1px rgba(0, 0, 0, 0.15);\n",
              "      filter: drop-shadow(0px 1px 2px rgba(0, 0, 0, 0.3));\n",
              "      fill: #FFFFFF;\n",
              "    }\n",
              "  </style>\n",
              "\n",
              "    <script>\n",
              "      const buttonEl =\n",
              "        document.querySelector('#df-8ae1346e-a1bd-4ffd-8e4d-b7fac20d7fe9 button.colab-df-convert');\n",
              "      buttonEl.style.display =\n",
              "        google.colab.kernel.accessAllowed ? 'block' : 'none';\n",
              "\n",
              "      async function convertToInteractive(key) {\n",
              "        const element = document.querySelector('#df-8ae1346e-a1bd-4ffd-8e4d-b7fac20d7fe9');\n",
              "        const dataTable =\n",
              "          await google.colab.kernel.invokeFunction('convertToInteractive',\n",
              "                                                    [key], {});\n",
              "        if (!dataTable) return;\n",
              "\n",
              "        const docLinkHtml = 'Like what you see? Visit the ' +\n",
              "          '<a target=\"_blank\" href=https://colab.research.google.com/notebooks/data_table.ipynb>data table notebook</a>'\n",
              "          + ' to learn more about interactive tables.';\n",
              "        element.innerHTML = '';\n",
              "        dataTable['output_type'] = 'display_data';\n",
              "        await google.colab.output.renderOutput(dataTable, element);\n",
              "        const docLink = document.createElement('div');\n",
              "        docLink.innerHTML = docLinkHtml;\n",
              "        element.appendChild(docLink);\n",
              "      }\n",
              "    </script>\n",
              "  </div>\n",
              "\n",
              "\n",
              "    <div id=\"df-9fb77f29-898a-4930-a371-304a92c4207a\">\n",
              "      <button class=\"colab-df-quickchart\" onclick=\"quickchart('df-9fb77f29-898a-4930-a371-304a92c4207a')\"\n",
              "                title=\"Suggest charts\"\n",
              "                style=\"display:none;\">\n",
              "\n",
              "<svg xmlns=\"http://www.w3.org/2000/svg\" height=\"24px\"viewBox=\"0 0 24 24\"\n",
              "     width=\"24px\">\n",
              "    <g>\n",
              "        <path d=\"M19 3H5c-1.1 0-2 .9-2 2v14c0 1.1.9 2 2 2h14c1.1 0 2-.9 2-2V5c0-1.1-.9-2-2-2zM9 17H7v-7h2v7zm4 0h-2V7h2v10zm4 0h-2v-4h2v4z\"/>\n",
              "    </g>\n",
              "</svg>\n",
              "      </button>\n",
              "\n",
              "<style>\n",
              "  .colab-df-quickchart {\n",
              "      --bg-color: #E8F0FE;\n",
              "      --fill-color: #1967D2;\n",
              "      --hover-bg-color: #E2EBFA;\n",
              "      --hover-fill-color: #174EA6;\n",
              "      --disabled-fill-color: #AAA;\n",
              "      --disabled-bg-color: #DDD;\n",
              "  }\n",
              "\n",
              "  [theme=dark] .colab-df-quickchart {\n",
              "      --bg-color: #3B4455;\n",
              "      --fill-color: #D2E3FC;\n",
              "      --hover-bg-color: #434B5C;\n",
              "      --hover-fill-color: #FFFFFF;\n",
              "      --disabled-bg-color: #3B4455;\n",
              "      --disabled-fill-color: #666;\n",
              "  }\n",
              "\n",
              "  .colab-df-quickchart {\n",
              "    background-color: var(--bg-color);\n",
              "    border: none;\n",
              "    border-radius: 50%;\n",
              "    cursor: pointer;\n",
              "    display: none;\n",
              "    fill: var(--fill-color);\n",
              "    height: 32px;\n",
              "    padding: 0;\n",
              "    width: 32px;\n",
              "  }\n",
              "\n",
              "  .colab-df-quickchart:hover {\n",
              "    background-color: var(--hover-bg-color);\n",
              "    box-shadow: 0 1px 2px rgba(60, 64, 67, 0.3), 0 1px 3px 1px rgba(60, 64, 67, 0.15);\n",
              "    fill: var(--button-hover-fill-color);\n",
              "  }\n",
              "\n",
              "  .colab-df-quickchart-complete:disabled,\n",
              "  .colab-df-quickchart-complete:disabled:hover {\n",
              "    background-color: var(--disabled-bg-color);\n",
              "    fill: var(--disabled-fill-color);\n",
              "    box-shadow: none;\n",
              "  }\n",
              "\n",
              "  .colab-df-spinner {\n",
              "    border: 2px solid var(--fill-color);\n",
              "    border-color: transparent;\n",
              "    border-bottom-color: var(--fill-color);\n",
              "    animation:\n",
              "      spin 1s steps(1) infinite;\n",
              "  }\n",
              "\n",
              "  @keyframes spin {\n",
              "    0% {\n",
              "      border-color: transparent;\n",
              "      border-bottom-color: var(--fill-color);\n",
              "      border-left-color: var(--fill-color);\n",
              "    }\n",
              "    20% {\n",
              "      border-color: transparent;\n",
              "      border-left-color: var(--fill-color);\n",
              "      border-top-color: var(--fill-color);\n",
              "    }\n",
              "    30% {\n",
              "      border-color: transparent;\n",
              "      border-left-color: var(--fill-color);\n",
              "      border-top-color: var(--fill-color);\n",
              "      border-right-color: var(--fill-color);\n",
              "    }\n",
              "    40% {\n",
              "      border-color: transparent;\n",
              "      border-right-color: var(--fill-color);\n",
              "      border-top-color: var(--fill-color);\n",
              "    }\n",
              "    60% {\n",
              "      border-color: transparent;\n",
              "      border-right-color: var(--fill-color);\n",
              "    }\n",
              "    80% {\n",
              "      border-color: transparent;\n",
              "      border-right-color: var(--fill-color);\n",
              "      border-bottom-color: var(--fill-color);\n",
              "    }\n",
              "    90% {\n",
              "      border-color: transparent;\n",
              "      border-bottom-color: var(--fill-color);\n",
              "    }\n",
              "  }\n",
              "</style>\n",
              "\n",
              "      <script>\n",
              "        async function quickchart(key) {\n",
              "          const quickchartButtonEl =\n",
              "            document.querySelector('#' + key + ' button');\n",
              "          quickchartButtonEl.disabled = true;  // To prevent multiple clicks.\n",
              "          quickchartButtonEl.classList.add('colab-df-spinner');\n",
              "          try {\n",
              "            const charts = await google.colab.kernel.invokeFunction(\n",
              "                'suggestCharts', [key], {});\n",
              "          } catch (error) {\n",
              "            console.error('Error during call to suggestCharts:', error);\n",
              "          }\n",
              "          quickchartButtonEl.classList.remove('colab-df-spinner');\n",
              "          quickchartButtonEl.classList.add('colab-df-quickchart-complete');\n",
              "        }\n",
              "        (() => {\n",
              "          let quickchartButtonEl =\n",
              "            document.querySelector('#df-9fb77f29-898a-4930-a371-304a92c4207a button');\n",
              "          quickchartButtonEl.style.display =\n",
              "            google.colab.kernel.accessAllowed ? 'block' : 'none';\n",
              "        })();\n",
              "      </script>\n",
              "    </div>\n",
              "\n",
              "    </div>\n",
              "  </div>\n"
            ],
            "application/vnd.google.colaboratory.intrinsic+json": {
              "type": "dataframe",
              "summary": "{\n  \"name\": \"film_deaths[film_deaths['Body_Count']>200]\",\n  \"rows\": 14,\n  \"fields\": [\n    {\n      \"column\": \"Film\",\n      \"properties\": {\n        \"dtype\": \"string\",\n        \"num_unique_values\": 14,\n        \"samples\": [\n          \"Starship Troopers\",\n          \"Rambo\",\n          \"The Lord of the Rings: The Return of the King\"\n        ],\n        \"semantic_type\": \"\",\n        \"description\": \"\"\n      }\n    },\n    {\n      \"column\": \"Year\",\n      \"properties\": {\n        \"dtype\": \"number\",\n        \"std\": 5,\n        \"min\": 1990,\n        \"max\": 2008,\n        \"num_unique_values\": 10,\n        \"samples\": [\n          2008,\n          2005,\n          1992\n        ],\n        \"semantic_type\": \"\",\n        \"description\": \"\"\n      }\n    },\n    {\n      \"column\": \"Body_Count\",\n      \"properties\": {\n        \"dtype\": \"number\",\n        \"std\": 186,\n        \"min\": 214,\n        \"max\": 836,\n        \"num_unique_values\": 13,\n        \"samples\": [\n          236,\n          255,\n          836\n        ],\n        \"semantic_type\": \"\",\n        \"description\": \"\"\n      }\n    },\n    {\n      \"column\": \"MPAA_Rating\",\n      \"properties\": {\n        \"dtype\": \"category\",\n        \"num_unique_values\": 2,\n        \"samples\": [\n          \"R\",\n          \"PG-13\"\n        ],\n        \"semantic_type\": \"\",\n        \"description\": \"\"\n      }\n    },\n    {\n      \"column\": \"Genre\",\n      \"properties\": {\n        \"dtype\": \"string\",\n        \"num_unique_values\": 12,\n        \"samples\": [\n          \"Action|Drama|Sci-Fi|Thriller\",\n          \"Action|Thriller|War\"\n        ],\n        \"semantic_type\": \"\",\n        \"description\": \"\"\n      }\n    },\n    {\n      \"column\": \"Director\",\n      \"properties\": {\n        \"dtype\": \"string\",\n        \"num_unique_values\": 12,\n        \"samples\": [\n          \"Sylvester Stallone\",\n          \"Steven Spielberg\"\n        ],\n        \"semantic_type\": \"\",\n        \"description\": \"\"\n      }\n    },\n    {\n      \"column\": \"Actors\",\n      \"properties\": {\n        \"dtype\": \"string\",\n        \"num_unique_values\": 14,\n        \"samples\": [\n          \"Casper Van Dien|Dina Meyer|Denise Richards|Jake Busey|Neil Patrick Harris|Clancy Brown|Seth Gilliam|Patrick Muldoon|Michael Ironside|Rue McClanahan|Marshall Bell|Eric Bruskotter|Matt Levin|Blake Lindsley|Anthony Ruivivar|Brenda Strong|Dean Norris|Christopher Curry|Lenore Kasdorf|Tami-Adrian George|Teo|Steven Ford|Ungela Brockman|Curnal Achilles Aulisio|Greg Travis|Bruce Gray|Denise Dowse|John Cunningham|Julianna McCarthy|Timothy McNeil|Robert David Hall|Brad Kane|Amy Smart|Timothy Omundson|Patrick Bishop|Hunter Bodine|Travis Lowen|Patrick Wolff|Mara Duronslet|Dale Dye|Mike Stokey|Tyrone Tann|Matt Entriken|Eric DaRe|Ronald L. Botchan|Walter Adrian|Stephanie Erb|Alexi Lakatos|Nathaniel Marshall|Austin Sanderford|Rhiannon Vigil|Mylin Brooks|Armand Darrius|Kai Lennox|Dawn E. Anderson|David Beckett|William Bradley|Jason Thomas Campbell|Jon Davison|R. Lee Ermey|Mohammad Faisal|Farnaz|Michael Gerald|Antonio Magrane|Steve Mora|Brooke Morales|Jim Morse|Cole Nelson|Edward Neumeier|Ryan O'Quinn|Dan Olivo|Julie Pinson|Zo\\u00eb Poledouris|Mary Ann Schmidt|Tony Scoville|Julia Self|Parry Shen|K. Harrison Sweeney|Brian Tochi|Michael A. Valenzano|Cari Vega|Justin Ward\",\n          \"Sylvester Stallone|Julie Benz|Matthew Marsden|Graham McTavish|Reynaldo Gallegos|Jake La Botz|Tim Kang|Maung Maung Khin|Paul Schulze|Cameron Pearson|Thomas Peterson|Tony Skarberg|James With|Kasikorn Niyompattana|Shaliew 'Lek' Bamrungbun|Supakorn Kitsuwon|Aung Aay Noi|Ken Howard|Aung Theng|Pornpop 'Tor' Kampusiri|Wasawat Panyarat|Kammul Kawtep|Sornram Patchimtasanakarn|Noa 'Arunee Prijareonsuk' Jei|Kjam Saen|Aun Lung Su|Pan Dokngam|Han Pik|Tip Tiya|Nee Lungjai|Yupin Mu Pae|Moan Adisak|Somsak Wongsa|Surachai Muangdee|Mana Sen-Mi|Toole Khan Kham|Saiwan Lungta|Watcharentr Sedtho|Rapimpa Dibu|May Kung|Matthew Wolf\"\n        ],\n        \"semantic_type\": \"\",\n        \"description\": \"\"\n      }\n    },\n    {\n      \"column\": \"Length_Minutes\",\n      \"properties\": {\n        \"dtype\": \"number\",\n        \"std\": 32,\n        \"min\": 92,\n        \"max\": 201,\n        \"num_unique_values\": 14,\n        \"samples\": [\n          129,\n          92\n        ],\n        \"semantic_type\": \"\",\n        \"description\": \"\"\n      }\n    },\n    {\n      \"column\": \"IMDB_Rating\",\n      \"properties\": {\n        \"dtype\": \"number\",\n        \"std\": 0.6198635085490752,\n        \"min\": 7.1,\n        \"max\": 8.9,\n        \"num_unique_values\": 8,\n        \"samples\": [\n          7.2,\n          7.1\n        ],\n        \"semantic_type\": \"\",\n        \"description\": \"\"\n      }\n    }\n  ]\n}"
            }
          },
          "metadata": {},
          "execution_count": 18
        }
      ],
      "source": [
        "film_deaths[film_deaths['Body_Count']>200].sort_values('Body_Count', ascending=False)"
      ]
    },
    {
      "cell_type": "markdown",
      "metadata": {
        "id": "Y4_fr9i06V2L"
      },
      "source": [
        "We now see that the 'Lord of the Rings' is a large outlier with a very large number of kills. We can try and determine how much of an outlier by histograming the data."
      ]
    },
    {
      "cell_type": "markdown",
      "metadata": {
        "id": "h5vyOReX6V2L"
      },
      "source": [
        "### Plotting the Data"
      ]
    },
    {
      "cell_type": "code",
      "execution_count": 19,
      "metadata": {
        "id": "KFw8OsXL6V2L",
        "outputId": "17da67d5-1eb3-4e67-f181-d16703401e02",
        "colab": {
          "base_uri": "https://localhost:8080/",
          "height": 469
        }
      },
      "outputs": [
        {
          "output_type": "execute_result",
          "data": {
            "text/plain": [
              "Text(0.5, 1.0, 'Histogram of Film Kill Count')"
            ]
          },
          "metadata": {},
          "execution_count": 19
        },
        {
          "output_type": "display_data",
          "data": {
            "text/plain": [
              "<Figure size 640x480 with 1 Axes>"
            ],
            "image/png": "[encoded data removed]"
          },
          "metadata": {}
        }
      ],
      "source": [
        "film_deaths['Body_Count'].hist(bins=20) # histogram the data with 20 bins.\n",
        "plt.title('Histogram of Film Kill Count')"
      ]
    },
    {
      "cell_type": "markdown",
      "metadata": {
        "id": "8ky0Oq6w6V2L"
      },
      "source": [
        "### Question 2\n",
        "Read on the internet about the following python libraries: `numpy`, `matplotlib`, `scipy` and `pandas`. What functionality does each provide in python. What is the `pylab` library and how does it relate to the other libraries?"
      ]
    },
    {
      "cell_type": "markdown",
      "metadata": {
        "id": "F8eeWmc-6V2M"
      },
      "source": [
        "*Provide your answer here*\n"
      ]
    },
    {
      "cell_type": "markdown",
      "metadata": {
        "id": "oWyHwZ456V2M"
      },
      "source": [
        "We could try and remove these outliers, but another approach would be to plot the logarithm of the counts against the year."
      ]
    },
    {
      "cell_type": "code",
      "execution_count": null,
      "metadata": {
        "id": "tyYzTO726V2M"
      },
      "outputs": [],
      "source": [
        "plt.plot(film_deaths['Year'], film_deaths['Body_Count'], 'rx')\n",
        "ax = plt.gca() # obtain a handle to the current axis\n",
        "ax.set_yscale('log') # use a logarithmic death scale\n",
        "# give the plot some titles and labels\n",
        "plt.title('Film Deaths against Year')\n",
        "plt.ylabel('deaths')\n",
        "plt.xlabel('year')"
      ]
    },
    {
      "cell_type": "markdown",
      "metadata": {
        "id": "HqhhbQHs6V2M"
      },
      "source": [
        "Note a few things. We are interacting with our data. In particular, we are replotting the data according to what we have learned so far. We are using the programming language as a *scripting* language to give the computer one command or another, and then the next command we enter is dependent on the result of the previous. This is a very different paradigm to classical software engineering. In classical software engineering we normally write many lines of code (entire object classes or functions) before compiling the code and running it. Our approach is more similar to the approach we take whilst debugging. Historically, researchers interacted with data using a *console*. A command line window which allowed command entry. The notebook format we are using is slightly different. Each of the code entry boxes acts like a separate console window. We can move up and down the notebook and run each part in a different order. The *state* of the program is always as we left it after running the previous part.  "
      ]
    },
    {
      "cell_type": "markdown",
      "metadata": {
        "id": "rRREGAH46V2M"
      },
      "source": [
        "### Question 3\n",
        "\n",
        "What is jupyter and why was it invented? Give some examples of functionality it gives over standard python. What is the jupyter project? Name two languages involved in the Jupyter project other than python."
      ]
    },
    {
      "cell_type": "markdown",
      "metadata": {
        "id": "4wD4__Iv6V2M"
      },
      "source": [
        "*Provide your answer here*\n"
      ]
    },
    {
      "cell_type": "markdown",
      "metadata": {
        "id": "8PPU7lLM6V2M"
      },
      "source": [
        "# An end-to-end project in ML: using machine learning to predict bike rentals\n",
        "\n",
        "We will know move on and go in detail through an end-to-end ML project. Our dataset comes from a popular machine learning repository that hosts open source datasets for educational and research purposes, the [UCI Machine Learning Repository](https://archive.ics.uci.edu/ml/index.php). We are going to follow several of the steps in the ML project checklist and use several utilities and models in [scikit-learn](https://scikit-learn.org/stable/) for predicting bike rentals. The description of the dataset can be found [here](https://archive.ics.uci.edu/ml/datasets/Seoul+Bike+Sharing+Demand#).\n",
        "\n",
        "### Get the data"
      ]
    },
    {
      "cell_type": "code",
      "execution_count": null,
      "metadata": {
        "id": "bsY0DSqp6V2M"
      },
      "outputs": [],
      "source": [
        "import urllib.request\n",
        "urllib.request.urlretrieve('https://archive.ics.uci.edu/ml/machine-learning-databases/00560/SeoulBikeData.csv', './SeoulBikeData.csv')"
      ]
    },
    {
      "cell_type": "code",
      "execution_count": null,
      "metadata": {
        "id": "yH2wQfm36V2M"
      },
      "outputs": [],
      "source": [
        "import pandas as pd\n",
        "bike_sharing_data = pd.read_csv('SeoulBikeData.csv', encoding= 'unicode_escape')"
      ]
    },
    {
      "cell_type": "markdown",
      "metadata": {
        "id": "Cd2rncU86V2P"
      },
      "source": [
        "We can get a description of the data"
      ]
    },
    {
      "cell_type": "code",
      "execution_count": null,
      "metadata": {
        "id": "x0E42Zf26V2P"
      },
      "outputs": [],
      "source": [
        "bike_sharing_data.describe()"
      ]
    },
    {
      "cell_type": "markdown",
      "metadata": {
        "id": "8Fd6q3fU6V2P"
      },
      "source": [
        "We can see some of the rows in the dataset"
      ]
    },
    {
      "cell_type": "code",
      "execution_count": null,
      "metadata": {
        "id": "dn5EctoC6V2Q"
      },
      "outputs": [],
      "source": [
        "bike_sharing_data.sample(5)"
      ]
    },
    {
      "cell_type": "markdown",
      "metadata": {
        "id": "0UrzEtkA6V2Q"
      },
      "source": [
        "The target variable $y$ corresponds to the Rented Bike Count variable of the second column. The following columns correspond to the variables in the feature vector $\\mathbf{x}$, *e.g.*, *Hour* is $x_1$ up until *Functioning Day* which is $x_D$. The original dataset also has a date column that we are not going to use in this notebook."
      ]
    },
    {
      "cell_type": "code",
      "execution_count": null,
      "metadata": {
        "id": "mzJ1f4ne6V2Q"
      },
      "outputs": [],
      "source": [
        "bike_sharing_data = bike_sharing_data.drop('Date', axis=1)"
      ]
    },
    {
      "cell_type": "markdown",
      "metadata": {
        "id": "GfUYvEMz6V2Q"
      },
      "source": [
        "We follow some of the steps in the ML checklist we used in the lecture, including data exploration, data preprocessing, and fine-tuning the ML model. It is important to remember that the testing data that we use for assessing the generalisation performance has to be set aside once we get the data. Also, any data preprocessing that you do has to be done only on the training data and several quantities need to be saved for the test stage. Separating the dataset into training and test before any preprocessing has happened, help us to recreate the real world scenario where we will deploy our system and for which the data will come without any preprocessing.\n",
        "\n",
        "We use scikit-learn to separate the data into training and test sets. Let us first look at how many instances we have in the dataset"
      ]
    },
    {
      "cell_type": "code",
      "execution_count": null,
      "metadata": {
        "id": "9Ri7Dxo76V2Q"
      },
      "outputs": [],
      "source": [
        "bike_sharing_data.info()"
      ]
    },
    {
      "cell_type": "markdown",
      "metadata": {
        "id": "w5kEycPi6V2Q"
      },
      "source": [
        "Several algorithms that we will use assume the inputs to be type 'float' instead of 'int', so we transform those variables in the dataset from int64 to float64."
      ]
    },
    {
      "cell_type": "code",
      "execution_count": null,
      "metadata": {
        "id": "vMIIpJHG6V2Q"
      },
      "outputs": [],
      "source": [
        "for col in ['Rented Bike Count', 'Hour', 'Humidity(%)', 'Visibility (10m)']:\n",
        "    bike_sharing_data[col] = bike_sharing_data[col].astype('float64')"
      ]
    },
    {
      "cell_type": "code",
      "execution_count": null,
      "metadata": {
        "id": "HyRS5C0c6V2Q"
      },
      "outputs": [],
      "source": [
        "bike_sharing_data.info()"
      ]
    },
    {
      "cell_type": "markdown",
      "metadata": {
        "id": "2CJCT7586V2Q"
      },
      "source": [
        "The dataset has a few thousand observations. We will use 85% of the data for training and 15% for testing. The `train_test_split` function in scikit-learn allows to easily get these partitions."
      ]
    },
    {
      "cell_type": "code",
      "execution_count": null,
      "metadata": {
        "id": "b5d1g6E36V2Q"
      },
      "outputs": [],
      "source": [
        "from sklearn.model_selection import train_test_split\n",
        "bs_train_set, bs_test_set = train_test_split(bike_sharing_data, test_size=0.15, random_state=42)"
      ]
    },
    {
      "cell_type": "markdown",
      "metadata": {
        "id": "yI3D8LpX6V2Q"
      },
      "source": [
        "The train and test sets are chosen randomly from all the available data. By specifying a value for `random_state`, we are making sure that every time we run this instruction, the train and test set will have the exact same instances. `random_state` \"controls the shuffling applied to the data before applying the split\".\n",
        "\n",
        "### Explore the data\n",
        "\n",
        "There are different tools we can use to explore the dataset.\n",
        "\n",
        "#### Histograms\n",
        "\n",
        "Let us first look at histograms for each of the continuous attributes."
      ]
    },
    {
      "cell_type": "code",
      "execution_count": null,
      "metadata": {
        "id": "RWtZkURz6V2Q"
      },
      "outputs": [],
      "source": [
        "%matplotlib inline\n",
        "import matplotlib.pyplot as plt\n",
        "bs_train_set.hist(bins=50, figsize=(20,15))\n",
        "plt.show()"
      ]
    },
    {
      "cell_type": "markdown",
      "metadata": {
        "id": "BDrC-yFn6V2Q"
      },
      "source": [
        "Some observations from the histograms are:\n",
        "\n",
        "1. The values for the variables Rainfall, Snowfall, Solar Radition and Visibility are concentrated at one of the ends of the plots. This is an indication that several instances might contain outliers. One can consider removing these outliers from the data or binning the data into a few discrete values.\n",
        "\n",
        "2. Both the Rented Bike Count and the Wind Speed are [skewed to the right](https://en.wikipedia.org/wiki/Skewness), this is, the mean of the distribution is to the right of the median. Some ML algorithms find it harder to detect patterns for this type of distribution. One might consider transforming these features using $\\log(x)$ or $\\sqrt{x}$ so that they look more like a bell-shaped distribution.\n",
        "\n",
        "### Question 4\n",
        "\n",
        "1. Compute the mean and the median for the variables Rented Bike Count and Wind Speed and verify that the mean is to the right of the median.\n",
        "\n",
        "2. How would the histograms for Rented Bike Count and the Wind Speed look like if we transform the values using $\\sqrt{x}$?\n",
        "\n",
        "3. Would it be possible to use $\\log{x}$ instead of $\\sqrt{x}$? If not, what would you do to the variable to be able to use it?"
      ]
    },
    {
      "cell_type": "code",
      "execution_count": null,
      "metadata": {
        "id": "hfTg6Us36V2R"
      },
      "outputs": [],
      "source": [
        "# Provide your answer here\n"
      ]
    },
    {
      "cell_type": "markdown",
      "metadata": {
        "id": "Yhuxvj816V2R"
      },
      "source": [
        "#### Scatter plots\n",
        "\n",
        "The Scatter plot is a tool we can use to explore dependencies between the different variables. It contains plots of each variable against each other in the dataset. If there are many variables in the feature vector, including all scatter plots might not be convenient to visualise. Let us look at the scatter plot for the target variable and four of the attributes."
      ]
    },
    {
      "cell_type": "code",
      "execution_count": null,
      "metadata": {
        "scrolled": false,
        "id": "8Qu1vVD86V2R"
      },
      "outputs": [],
      "source": [
        "from pandas.plotting import scatter_matrix\n",
        "attributes = ['Rented Bike Count', 'Hour', 'Temperature(°C)', 'Humidity(%)', 'Wind speed (m/s)']\n",
        "figscat = scatter_matrix(bs_train_set[attributes], figsize=(20, 15))"
      ]
    },
    {
      "cell_type": "markdown",
      "metadata": {
        "id": "lvn_H8HG6V2R"
      },
      "source": [
        "The variables Hour and Temperature seem well correlatd with Rented Bike Count. The relationship between Humidity and Wind Speed with Rented Bike Count looks less clear though.\n",
        "\n",
        "### Correlation coefficients\n",
        "\n",
        "Additionally, we can study the correlation coefficient between the numerical attributes and the Rented Bike Count."
      ]
    },
    {
      "cell_type": "code",
      "execution_count": null,
      "metadata": {
        "id": "n52W2cHZ6V2R"
      },
      "outputs": [],
      "source": [
        "corr_matrix = bs_train_set.corr(numeric_only=True)\n",
        "corr_matrix['Rented Bike Count'].sort_values(ascending=False)"
      ]
    },
    {
      "cell_type": "markdown",
      "metadata": {
        "id": "Y-Cp-F_y6V2R"
      },
      "source": [
        "As we suspected by having looked at the scatter plots, Temperature and Hour are strongly correlated with the target value.\n",
        "\n",
        "### Question 5\n",
        "\n",
        "What would the correlation coefficients be if the variables Rented Bike Count and Wind Speed are transformed using $\\sqrt{x}$?"
      ]
    },
    {
      "cell_type": "code",
      "execution_count": null,
      "metadata": {
        "id": "jzhQxZa_6V2R"
      },
      "outputs": [],
      "source": [
        "# Provide your answer here"
      ]
    },
    {
      "cell_type": "markdown",
      "metadata": {
        "id": "tKU280DO6V2R"
      },
      "source": [
        "### Prepare the data\n",
        "\n",
        "We will now prepare the data so that it is suitable for the machine learning models. We consider the following processes for the dataset in this notebook: using one-hot-encoding for the categorical attributes and feature scaling for the numerical attributes. scikit-learn provides utilities for these tasks:\n",
        "\n",
        "1. [OneHotEncoder()](https://scikit-learn.org/stable/modules/generated/sklearn.preprocessing.OneHotEncoder.html?highlight=onehotencoder#sklearn.preprocessing.OneHotEncoder) allows to transform a categorical variable to a one-hot encoding representation.\n",
        "\n",
        "2. [StandardScaler()](https://scikit-learn.org/stable/modules/generated/sklearn.preprocessing.StandardScaler.html?highlight=standardscaler#sklearn.preprocessing.StandardScaler) performs feature scaling by standardisation.\n",
        "\n",
        "`OneHotEncoder()` and `StandardScaler()` are part of the scikit-learn [preprocessing module](https://scikit-learn.org/stable/modules/classes.html#module-sklearn.preprocessing).\n",
        "\n",
        "### Question 6\n",
        "\n",
        "Explore the scikit-learn [preprocessing module](https://scikit-learn.org/stable/modules/classes.html#module-sklearn.preprocessing). List and explain two of the utilities availaible that you believe are useful for data analysis."
      ]
    },
    {
      "cell_type": "markdown",
      "metadata": {
        "id": "U_wf9Glm6V2S"
      },
      "source": [
        "*Provide your answer here*"
      ]
    },
    {
      "cell_type": "markdown",
      "metadata": {
        "id": "flcYrjIx6V2S"
      },
      "source": [
        "`OneHotEncoder()` and `StandardScaler()` are examples of [data transformations](https://scikit-learn.org/stable/data_transforms.html). In scikit-learn these are referred to as *transformers* and they map the data from one format to another. In a programming context, transformers are classes. They come with the following methods:\n",
        "\n",
        "- `fit` that is used to learn the  transformation from data.\n",
        "- `transform` that is used to transform the data once the transformer has been fitted.   \n",
        "- `fit_transform` that applies first `fit` and then `transform` to the data.\n",
        "\n",
        "Typically, we use either `fit` or `fit_transform` for the training data and `transform` for the validation or test data.\n",
        "\n",
        "Since the one-hot-encoding and standardisation transformations will be applied to different columns in the dataset, it is convenient to have a function that applies them both. It is particularly useful since we need to apply those transformations to the train, validation and test sets. We could code such function from scratch, but here, we make use of the [ColumnTransformer()](https://scikit-learn.org/stable/modules/generated/sklearn.compose.ColumnTransformer.html?highlight=columntransformer#sklearn.compose.ColumnTransformer), an estimator available in scikit-learn that allows to group different transformations into a single method. `ColumnTransformer` is an example of an *estimator* in scikit-learn. An estimator is an object that provides predictions for new data. Besides the `fit`, `transform` and `fit_transform` methods, they most of the times provide the additional `predict` method for making predictions on the test data.\n",
        "\n",
        "### Question 7\n",
        "\n",
        "A [pipeline](https://scikit-learn.org/stable/modules/compose.html#pipeline) is a very convenient estimator in scikit-learn. Explain what is a pipeline and describe in which situations it is useful."
      ]
    },
    {
      "cell_type": "markdown",
      "metadata": {
        "id": "GOhyzlqE6V2S"
      },
      "source": [
        "*Provide your answer here*"
      ]
    },
    {
      "cell_type": "markdown",
      "metadata": {
        "id": "5jQ-dER06V2S"
      },
      "source": [
        "Let us go back to the dataset and apply the transformations we mentioned before. We first define lists with the names of the attributes, a list for the categorical attributes and a list for the numerical attributes"
      ]
    },
    {
      "cell_type": "code",
      "execution_count": null,
      "metadata": {
        "id": "IwNUFI3h6V2S"
      },
      "outputs": [],
      "source": [
        "attributes_cat = ['Seasons', 'Holiday', 'Functioning Day']\n",
        "attributes_num = ['Hour', 'Temperature(°C)', 'Humidity(%)', 'Wind speed (m/s)', 'Visibility (10m)', \\\n",
        "                  'Dew point temperature(°C)', 'Solar Radiation (MJ/m2)', 'Rainfall(mm)', 'Snowfall (cm)']"
      ]
    },
    {
      "cell_type": "markdown",
      "metadata": {
        "id": "00zjHB4c6V2S"
      },
      "source": [
        "We now import `OneHotEncoder`, `StandardScaler` and `ColumnTransformer` and create the actual transformer"
      ]
    },
    {
      "cell_type": "code",
      "execution_count": null,
      "metadata": {
        "id": "9b4Ayr5N6V2S"
      },
      "outputs": [],
      "source": [
        "from sklearn.preprocessing import OneHotEncoder\n",
        "from sklearn.preprocessing import StandardScaler\n",
        "from sklearn.compose import ColumnTransformer\n",
        "\n",
        "full_transform = ColumnTransformer([\n",
        "    (\"num\", StandardScaler(), attributes_num),\n",
        "    (\"cat\", OneHotEncoder(), attributes_cat),\n",
        "])"
      ]
    },
    {
      "cell_type": "markdown",
      "metadata": {
        "id": "Ufa6pLeq6V2S"
      },
      "source": [
        "Before applying the full transformation, we separate the target feature from the attributes"
      ]
    },
    {
      "cell_type": "code",
      "execution_count": null,
      "metadata": {
        "id": "MmACuIwN6V2S"
      },
      "outputs": [],
      "source": [
        "bs_train_set_attributes = bs_train_set.drop('Rented Bike Count', axis=1)\n",
        "bs_train_set_labels = bs_train_set['Rented Bike Count']"
      ]
    },
    {
      "cell_type": "markdown",
      "metadata": {
        "id": "HLqJVVjA6V2T"
      },
      "source": [
        "We can now apply the fit and apply the full transformation to the training data using `fit_transform`"
      ]
    },
    {
      "cell_type": "code",
      "execution_count": null,
      "metadata": {
        "id": "6v49Ja3z6V2T"
      },
      "outputs": [],
      "source": [
        "bs_train_set_attributes_prepared = full_transform.fit_transform(bs_train_set_attributes)"
      ]
    },
    {
      "cell_type": "markdown",
      "metadata": {
        "id": "BtXdABlo6V2T"
      },
      "source": [
        "### Short-list models and fine-tune them\n",
        "\n",
        "Up until this point, we have managed to prepare the data so that it can be used for fitting a predictive model. Scikit-learn includes routines for [several different predictive models for regression and for classification](https://scikit-learn.org/stable/supervised_learning.html#supervised-learning). The application of these methods follows a similar template to the point that applying a method intead of other is just a matter of changing the name of the method.\n",
        "\n",
        "In this notebook, we will focus on Linear Regression but in a larger ML project, you will be encouraged to try different predictive models, e.g. from those available in scikit-learn, and short-list two to three that look promising.  \n",
        "\n",
        "We import the [LinearRegression()](https://scikit-learn.org/stable/modules/generated/sklearn.linear_model.LinearRegression.html?highlight=linearregression#sklearn.linear_model.LinearRegression) method and fit it to the training data."
      ]
    },
    {
      "cell_type": "code",
      "execution_count": null,
      "metadata": {
        "id": "i3cz657J6V2T"
      },
      "outputs": [],
      "source": [
        "from sklearn.linear_model import LinearRegression\n",
        "lin_reg = LinearRegression()\n",
        "lin_reg.fit(bs_train_set_attributes_prepared, bs_train_set_labels)"
      ]
    },
    {
      "cell_type": "markdown",
      "metadata": {
        "id": "P0WVQynH6V2T"
      },
      "source": [
        "And that's it! We have fit the ML model. What's next? Well, by now, one may feel tempted to apply the model to the test data to see how it performs. However, one should only do this when being absolutely sure that this is the best performing model on a *validation set*.\n",
        "\n",
        "We have not used a validation set up until this point because we have not needed to compare between two alternative models. To see how to fine-tune the model, *let us use a validation set to decide whether including the features Rainfall and Snowfall has any benefits*\n",
        "\n",
        "#### Fine-tuning the model\n",
        "\n",
        "We take the original train set and split it again into a train set and a validation set. Due to the size of the dataset, we use a simple way for validating the model known as *holdout validation*, for which we hold out a single set of data for validation purposes. When the dataset is smaller, you can perform k-fold cross-validation or if the data is really small, leave-one-out cross validation. Both are implemented in scikit-learn ([k-fold cross validation](https://scikit-learn.org/stable/modules/generated/sklearn.model_selection.KFold.html#sklearn.model_selection.KFold) and [leave-one-out cross validation](https://scikit-learn.org/stable/modules/generated/sklearn.model_selection.LeaveOneOut.html?highlight=leave%20one%20out#sklearn.model_selection.LeaveOneOut).)\n",
        "\n",
        "From the original train set, we used 85% for the train set and 15% for the validation set. We could have split the dataset from the beginning into a train set, a validation set and a test set using 70%, 15% and 15% of the available data, respectively."
      ]
    },
    {
      "cell_type": "code",
      "execution_count": null,
      "metadata": {
        "id": "S1G14Ey16V2T"
      },
      "outputs": [],
      "source": [
        "bs_train2_set, bs_val_set = train_test_split(bs_train_set, test_size=0.15, random_state=42)\n",
        "bs_train2_set_attributes = bs_train2_set.drop('Rented Bike Count', axis=1)\n",
        "bs_train2_set_labels = bs_train2_set['Rented Bike Count']\n",
        "bs_val_set_attributes = bs_val_set.drop('Rented Bike Count', axis=1)\n",
        "bs_val_set_labels = bs_val_set['Rented Bike Count']"
      ]
    },
    {
      "cell_type": "markdown",
      "metadata": {
        "id": "p54xC75n6V2T"
      },
      "source": [
        "We will be comparing between two transformations, the one we already described with `full_transform` and one that looks similar except from not including Rainfall and Snowfall."
      ]
    },
    {
      "cell_type": "code",
      "execution_count": null,
      "metadata": {
        "id": "2KX4NgRd6V2T"
      },
      "outputs": [],
      "source": [
        "attributes_num_partial = ['Hour', 'Temperature(°C)', 'Humidity(%)', 'Wind speed (m/s)', 'Visibility (10m)', \\\n",
        "                  'Dew point temperature(°C)', 'Solar Radiation (MJ/m2)']\n",
        "partial_transform = ColumnTransformer([\n",
        "    (\"num\", StandardScaler(), attributes_num_partial),\n",
        "    (\"cat\", OneHotEncoder(), attributes_cat),\n",
        "])"
      ]
    },
    {
      "cell_type": "markdown",
      "metadata": {
        "id": "tXNq8-PE6V2T"
      },
      "source": [
        "We now use this new transformation to fit_transform the new train set"
      ]
    },
    {
      "cell_type": "code",
      "execution_count": null,
      "metadata": {
        "id": "x2JsfEnx6V2U"
      },
      "outputs": [],
      "source": [
        "bs_train2_set_no_RS_attributes = partial_transform.fit_transform(bs_train2_set_attributes)"
      ]
    },
    {
      "cell_type": "markdown",
      "metadata": {
        "id": "N7mgokov6V2U"
      },
      "source": [
        "We now train the linear regression model that only uses the partial transformed attributes"
      ]
    },
    {
      "cell_type": "code",
      "execution_count": null,
      "metadata": {
        "id": "y2HGYksT6V2U"
      },
      "outputs": [],
      "source": [
        "lin_reg_mod = LinearRegression()\n",
        "lin_reg_mod.fit(bs_train2_set_no_RS_attributes, bs_train2_set_labels)"
      ]
    },
    {
      "cell_type": "markdown",
      "metadata": {
        "id": "uMWLD2fZ6V2V"
      },
      "source": [
        "Let us now assess the performance of this model over the validation data. We first need to prepare the validation input data."
      ]
    },
    {
      "cell_type": "code",
      "execution_count": null,
      "metadata": {
        "id": "9UWnbg7K6V2W"
      },
      "outputs": [],
      "source": [
        "bs_val_set_no_RS_attributes = partial_transform.transform(bs_val_set_attributes)"
      ]
    },
    {
      "cell_type": "markdown",
      "metadata": {
        "id": "Jcx2GMJJ6V2W"
      },
      "source": [
        "We now compute the predictions made by the linear model"
      ]
    },
    {
      "cell_type": "code",
      "execution_count": null,
      "metadata": {
        "id": "dcEByz-k6V2W"
      },
      "outputs": [],
      "source": [
        "bs_val_set_predictions_mod = lin_reg_mod.predict(bs_val_set_no_RS_attributes)"
      ]
    },
    {
      "cell_type": "markdown",
      "metadata": {
        "id": "8Z2mURKj6V2W"
      },
      "source": [
        "We can now compute the RMSE obtained with this predictive model. We can use the [scikit-learn routine for computing the mean squared error](https://scikit-learn.org/stable/modules/generated/sklearn.metrics.mean_squared_error.html#sklearn.metrics.mean_squared_error) and then compute the square root."
      ]
    },
    {
      "cell_type": "code",
      "execution_count": null,
      "metadata": {
        "id": "JpPUJjb36V2W"
      },
      "outputs": [],
      "source": [
        "from sklearn.metrics import mean_squared_error\n",
        "import numpy as np\n",
        "error_mod = np.sqrt(mean_squared_error(bs_val_set_labels, bs_val_set_predictions_mod))\n",
        "error_mod"
      ]
    },
    {
      "cell_type": "markdown",
      "metadata": {
        "id": "pp4lj_Qd6V2W"
      },
      "source": [
        "Let us now look into using all the numerical attributes. The train set has changed, so we need to fit_transform a new full transformer."
      ]
    },
    {
      "cell_type": "code",
      "execution_count": null,
      "metadata": {
        "id": "_4dK_jRY6V2W"
      },
      "outputs": [],
      "source": [
        "bs_train2_set_all_attributes = full_transform.fit_transform(bs_train2_set_attributes)"
      ]
    },
    {
      "cell_type": "markdown",
      "metadata": {
        "id": "-WiGAs6I6V2W"
      },
      "source": [
        "We creat the new linear regression model"
      ]
    },
    {
      "cell_type": "code",
      "execution_count": null,
      "metadata": {
        "scrolled": true,
        "id": "meGl7Yxy6V2W"
      },
      "outputs": [],
      "source": [
        "lin_reg = LinearRegression()\n",
        "lin_reg.fit(bs_train2_set_all_attributes, bs_train2_set_labels)"
      ]
    },
    {
      "cell_type": "markdown",
      "metadata": {
        "id": "47EV1t9z6V2W"
      },
      "source": [
        "Transform the validation data"
      ]
    },
    {
      "cell_type": "code",
      "execution_count": null,
      "metadata": {
        "id": "Z7MWJ--D6V2W"
      },
      "outputs": [],
      "source": [
        "bs_val_set_all_attributes = full_transform.transform(bs_val_set_attributes)"
      ]
    },
    {
      "cell_type": "markdown",
      "metadata": {
        "id": "4aDOutbV6V2X"
      },
      "source": [
        "We finally perform the prediction"
      ]
    },
    {
      "cell_type": "code",
      "execution_count": null,
      "metadata": {
        "id": "FbRiMqR66V2X"
      },
      "outputs": [],
      "source": [
        "bs_val_set_predictions = lin_reg.predict(bs_val_set_all_attributes)\n",
        "error = np.sqrt(mean_squared_error(bs_val_set_labels, bs_val_set_predictions))\n",
        "error"
      ]
    },
    {
      "cell_type": "markdown",
      "metadata": {
        "id": "LJNLYdHZ6V2X"
      },
      "source": [
        "We conclude from this that the variables Rainfall and Snowfall actually help to slightly improve the predictions.\n",
        "\n",
        "### Question 8\n",
        "\n",
        "Perhaps other transformations to the dataset can help to improve the predictions. Try the following transformations and see whether the RMSE over the validation set reduces even more:\n",
        "\n",
        "1. Before standardising the feature Wind speed, first transform it using $\\sqrt{x}$.\n",
        "2. Transform the Rainfall and the Snowfall to discrete features using the scikit-learn utility [KBinsDiscretizer](https://scikit-learn.org/stable/modules/generated/sklearn.preprocessing.KBinsDiscretizer.html#sklearn.preprocessing.KBinsDiscretizer) with $K=5$.\n",
        "3. Instead of doing standardisation over the other numerical features, use normalisation.\n",
        "4. Keep the one-hot-encoding for the categorical features."
      ]
    },
    {
      "cell_type": "code",
      "execution_count": null,
      "metadata": {
        "id": "oGlpqng36V2X"
      },
      "outputs": [],
      "source": [
        "# Provide your answer bere"
      ]
    },
    {
      "cell_type": "markdown",
      "metadata": {
        "id": "gnHPBzJ06V2X"
      },
      "source": [
        "Between chosing to include Rainfall and Snowfall or not, the stage of validation tells us we should include them. If this was the only hyperparameter to choose from, we would be done and we could proceed to compute the generalisation error on the test set. Since we are not considering more fine-tuning at the moment, let us compute the RMSE over the test set. We have already prepared the whole training data (what we called train2+val) before using the full transform, we called it `bs_train_set_attributes_prepared`"
      ]
    },
    {
      "cell_type": "code",
      "execution_count": null,
      "metadata": {
        "id": "crjjBUlI6V2X"
      },
      "outputs": [],
      "source": [
        "lin_reg = LinearRegression()\n",
        "lin_reg.fit(bs_train_set_attributes_prepared, bs_train_set_labels)"
      ]
    },
    {
      "cell_type": "markdown",
      "metadata": {
        "id": "seEHh9AV6V2X"
      },
      "source": [
        "Let us transform the test data so that we can apply the fitted model correctly"
      ]
    },
    {
      "cell_type": "code",
      "execution_count": null,
      "metadata": {
        "id": "ZMAOkoxe6V2X"
      },
      "outputs": [],
      "source": [
        "bs_test_set_attributes = bs_test_set.drop('Rented Bike Count', axis=1)\n",
        "bs_test_set_labels = bs_test_set['Rented Bike Count']"
      ]
    },
    {
      "cell_type": "markdown",
      "metadata": {
        "id": "nUp9xGJG6V2Y"
      },
      "source": [
        "We now transform the attributes in the test set"
      ]
    },
    {
      "cell_type": "code",
      "execution_count": null,
      "metadata": {
        "id": "0R-T-OAl6V2Y"
      },
      "outputs": [],
      "source": [
        "bs_test_set_attributes_prepared = full_transform.transform(bs_test_set_attributes)"
      ]
    },
    {
      "cell_type": "markdown",
      "metadata": {
        "id": "Z7k5OS4h6V2Y"
      },
      "source": [
        "We perform the prediction"
      ]
    },
    {
      "cell_type": "code",
      "execution_count": null,
      "metadata": {
        "id": "JLMAnRCf6V2Y"
      },
      "outputs": [],
      "source": [
        "bs_test_set_predictions = lin_reg.predict(bs_test_set_attributes_prepared)"
      ]
    },
    {
      "cell_type": "markdown",
      "metadata": {
        "id": "i3tE7pXt6V2Y"
      },
      "source": [
        "And compute the RMSE"
      ]
    },
    {
      "cell_type": "code",
      "execution_count": null,
      "metadata": {
        "id": "t0XL26Gz6V2Y"
      },
      "outputs": [],
      "source": [
        "error_test = np.sqrt(mean_squared_error(bs_test_set_labels, bs_test_set_predictions))\n",
        "error_test"
      ]
    },
    {
      "cell_type": "markdown",
      "metadata": {
        "id": "RMvO7Svc6V2Y"
      },
      "source": [
        "The performance in the test set is slightly worse when compared to the performance in the validation set."
      ]
    }
  ],
  "metadata": {
    "kernelspec": {
      "display_name": "Python 3 (ipykernel)",
      "language": "python",
      "name": "python3"
    },
    "language_info": {
      "codemirror_mode": {
        "name": "ipython",
        "version": 3
      },
      "file_extension": ".py",
      "mimetype": "text/x-python",
      "name": "python",
      "nbconvert_exporter": "python",
      "pygments_lexer": "ipython3",
      "version": "3.10.9"
    },
    "colab": {
      "provenance": [],
      "include_colab_link": true
    }
  },
  "nbformat": 4,
  "nbformat_minor": 0
}